{
 "cells": [
  {
   "cell_type": "code",
   "execution_count": 1,
   "id": "b21e0754",
   "metadata": {},
   "outputs": [],
   "source": [
    "import numpy as np\n",
    "import pandas as pd\n",
    "import re\n",
    "from nltk.corpus import stopwords\n",
    "from nltk.stem.porter import PorterStemmer\n",
    "from sklearn.feature_extraction.text import TfidfVectorizer,CountVectorizer\n",
    "from sklearn.model_selection import train_test_split\n",
    "from sklearn.linear_model import LogisticRegression\n",
    "from sklearn.metrics import accuracy_score"
   ]
  },
  {
   "cell_type": "code",
   "execution_count": 2,
   "id": "9e6ae404",
   "metadata": {},
   "outputs": [],
   "source": [
    "news_dataset = pd.read_csv('COVID Fake News Data.csv')"
   ]
  },
  {
   "cell_type": "code",
   "execution_count": 3,
   "id": "ad89fffb",
   "metadata": {},
   "outputs": [
    {
     "name": "stdout",
     "output_type": "stream",
     "text": [
      "Fake news count: 9727\n",
      "Real news count: 474\n"
     ]
    }
   ],
   "source": [
    "fake_count = news_dataset[news_dataset['outcome'] == 0].shape[0]\n",
    "real_count = news_dataset[news_dataset['outcome'] == 1].shape[0]\n",
    "\n",
    "# Print the counts\n",
    "print(\"Fake news count:\", fake_count)\n",
    "print(\"Real news count:\", real_count)"
   ]
  },
  {
   "cell_type": "code",
   "execution_count": 4,
   "id": "2c390082",
   "metadata": {},
   "outputs": [
    {
     "data": {
      "text/html": [
       "<div>\n",
       "<style scoped>\n",
       "    .dataframe tbody tr th:only-of-type {\n",
       "        vertical-align: middle;\n",
       "    }\n",
       "\n",
       "    .dataframe tbody tr th {\n",
       "        vertical-align: top;\n",
       "    }\n",
       "\n",
       "    .dataframe thead th {\n",
       "        text-align: right;\n",
       "    }\n",
       "</style>\n",
       "<table border=\"1\" class=\"dataframe\">\n",
       "  <thead>\n",
       "    <tr style=\"text-align: right;\">\n",
       "      <th></th>\n",
       "      <th>headlines</th>\n",
       "      <th>outcome</th>\n",
       "    </tr>\n",
       "  </thead>\n",
       "  <tbody>\n",
       "    <tr>\n",
       "      <th>0</th>\n",
       "      <td>A post claims compulsory vacination violates t...</td>\n",
       "      <td>0</td>\n",
       "    </tr>\n",
       "    <tr>\n",
       "      <th>1</th>\n",
       "      <td>A photo claims that this person is a doctor wh...</td>\n",
       "      <td>0</td>\n",
       "    </tr>\n",
       "    <tr>\n",
       "      <th>2</th>\n",
       "      <td>Post about a video claims that it is a protest...</td>\n",
       "      <td>0</td>\n",
       "    </tr>\n",
       "    <tr>\n",
       "      <th>3</th>\n",
       "      <td>All deaths by respiratory failure and pneumoni...</td>\n",
       "      <td>0</td>\n",
       "    </tr>\n",
       "    <tr>\n",
       "      <th>4</th>\n",
       "      <td>The dean of the College of Biologists of Euska...</td>\n",
       "      <td>0</td>\n",
       "    </tr>\n",
       "  </tbody>\n",
       "</table>\n",
       "</div>"
      ],
      "text/plain": [
       "                                           headlines  outcome\n",
       "0  A post claims compulsory vacination violates t...        0\n",
       "1  A photo claims that this person is a doctor wh...        0\n",
       "2  Post about a video claims that it is a protest...        0\n",
       "3  All deaths by respiratory failure and pneumoni...        0\n",
       "4  The dean of the College of Biologists of Euska...        0"
      ]
     },
     "execution_count": 4,
     "metadata": {},
     "output_type": "execute_result"
    }
   ],
   "source": [
    "news_dataset.head()"
   ]
  },
  {
   "cell_type": "code",
   "execution_count": 5,
   "id": "2663cb90",
   "metadata": {},
   "outputs": [
    {
     "data": {
      "text/plain": [
       "headlines    0\n",
       "outcome      0\n",
       "dtype: int64"
      ]
     },
     "execution_count": 5,
     "metadata": {},
     "output_type": "execute_result"
    }
   ],
   "source": [
    "news_dataset.isnull().sum()"
   ]
  },
  {
   "cell_type": "code",
   "execution_count": 6,
   "id": "0095004f",
   "metadata": {},
   "outputs": [
    {
     "data": {
      "text/plain": [
       "(10201, 2)"
      ]
     },
     "execution_count": 6,
     "metadata": {},
     "output_type": "execute_result"
    }
   ],
   "source": [
    "news_dataset.shape"
   ]
  },
  {
   "cell_type": "code",
   "execution_count": 7,
   "id": "dd3e5604",
   "metadata": {},
   "outputs": [
    {
     "name": "stderr",
     "output_type": "stream",
     "text": [
      "[nltk_data] Downloading package stopwords to\n",
      "[nltk_data]     C:\\Users\\USER\\AppData\\Roaming\\nltk_data...\n",
      "[nltk_data]   Package stopwords is already up-to-date!\n"
     ]
    },
    {
     "data": {
      "text/plain": [
       "True"
      ]
     },
     "execution_count": 7,
     "metadata": {},
     "output_type": "execute_result"
    }
   ],
   "source": [
    "import nltk\n",
    "nltk.download('stopwords')"
   ]
  },
  {
   "cell_type": "code",
   "execution_count": 8,
   "id": "8fe67686",
   "metadata": {},
   "outputs": [],
   "source": [
    "news_dataset['content'] = news_dataset['headlines']"
   ]
  },
  {
   "cell_type": "code",
   "execution_count": 9,
   "id": "1d2b4679",
   "metadata": {},
   "outputs": [
    {
     "name": "stdout",
     "output_type": "stream",
     "text": [
      "0        A post claims compulsory vacination violates t...\n",
      "1        A photo claims that this person is a doctor wh...\n",
      "2        Post about a video claims that it is a protest...\n",
      "3        All deaths by respiratory failure and pneumoni...\n",
      "4        The dean of the College of Biologists of Euska...\n",
      "                               ...                        \n",
      "10196    A Chinese market caused the new coronavirus (v...\n",
      "10197    The peak of the new coronavirus will happen in...\n",
      "10198    Stores and supermarkets in Veracruz (Mexico) w...\n",
      "10199    A chain message circulated on Tuesday, Jan. 14...\n",
      "10200    Photo shows Muslims in Tamil Nadu state of Ind...\n",
      "Name: content, Length: 10201, dtype: object\n"
     ]
    }
   ],
   "source": [
    "print(news_dataset['content'])"
   ]
  },
  {
   "cell_type": "code",
   "execution_count": 10,
   "id": "f343dfec",
   "metadata": {},
   "outputs": [],
   "source": [
    "port_stem = PorterStemmer()\n",
    "def stemming(content):\n",
    "    stemmed_content = re.sub('[^a-zA-Z]',' ',content)\n",
    "    stemmed_content = stemmed_content.lower()\n",
    "    stemmed_content = stemmed_content.split()\n",
    "    stemmed_content = [port_stem.stem(word) for word in stemmed_content if not word in stopwords.words('english')]\n",
    "    stemmed_content = ' '.join(stemmed_content)\n",
    "    return stemmed_content"
   ]
  },
  {
   "cell_type": "code",
   "execution_count": 11,
   "id": "a961c162",
   "metadata": {},
   "outputs": [],
   "source": [
    "news_dataset['content'] = news_dataset['content'].apply(stemming)"
   ]
  },
  {
   "cell_type": "code",
   "execution_count": 12,
   "id": "5a4b4750",
   "metadata": {},
   "outputs": [
    {
     "name": "stdout",
     "output_type": "stream",
     "text": [
      "0        post claim compulsori vacin violat principl bi...\n",
      "1        photo claim person doctor die attend mani covi...\n",
      "2        post video claim protest confin town aranda de...\n",
      "3        death respiratori failur pneumonia regist covi...\n",
      "4        dean colleg biologist euskadi state lot pcr fa...\n",
      "                               ...                        \n",
      "10196              chines market caus new coronaviru video\n",
      "10197    peak new coronaviru happen two week jan two we...\n",
      "10198    store supermarket veracruz mexico close due ne...\n",
      "10199    chain messag circul tuesday jan warn peopl avo...\n",
      "10200    photo show muslim tamil nadu state india float...\n",
      "Name: content, Length: 10201, dtype: object\n"
     ]
    }
   ],
   "source": [
    "print(news_dataset['content'])"
   ]
  },
  {
   "cell_type": "code",
   "execution_count": 13,
   "id": "88d9980d",
   "metadata": {},
   "outputs": [],
   "source": [
    "X = news_dataset['content'].values\n",
    "Y = news_dataset['outcome'].values"
   ]
  },
  {
   "cell_type": "code",
   "execution_count": 14,
   "id": "6d300e4f",
   "metadata": {},
   "outputs": [
    {
     "name": "stdout",
     "output_type": "stream",
     "text": [
      "['post claim compulsori vacin violat principl bioethic coronaviru exist pcr test return mani fals posit influenza vaccin relat covid'\n",
      " 'photo claim person doctor die attend mani covid patin hospit mu iz bueno air'\n",
      " 'post video claim protest confin town aranda de duero burgo' ...\n",
      " 'store supermarket veracruz mexico close due new coronaviru local govern ask peopl buy suppli'\n",
      " 'chain messag circul tuesday jan warn peopl avoid go shangri la plaza mall mandaluyong citi suppos case sever acut respiratori syndrom sar report one mall medic clinic'\n",
      " 'photo show muslim tamil nadu state india float lockdown rule ramzan offer night prayer']\n",
      "['post claim compulsori vacin violat principl bioethic coronaviru exist pcr test return mani fals posit influenza vaccin relat covid'\n",
      " 'photo claim person doctor die attend mani covid patin hospit mu iz bueno air'\n",
      " 'post video claim protest confin town aranda de duero burgo' ...\n",
      " 'store supermarket veracruz mexico close due new coronaviru local govern ask peopl buy suppli'\n",
      " 'chain messag circul tuesday jan warn peopl avoid go shangri la plaza mall mandaluyong citi suppos case sever acut respiratori syndrom sar report one mall medic clinic'\n",
      " 'photo show muslim tamil nadu state india float lockdown rule ramzan offer night prayer']\n"
     ]
    }
   ],
   "source": [
    "corpus=X\n",
    "print(X)\n",
    "print(corpus)"
   ]
  },
  {
   "cell_type": "code",
   "execution_count": 15,
   "id": "8ea131eb",
   "metadata": {},
   "outputs": [
    {
     "name": "stdout",
     "output_type": "stream",
     "text": [
      "[0 0 0 ... 0 0 0]\n"
     ]
    }
   ],
   "source": [
    "print(Y)"
   ]
  },
  {
   "cell_type": "code",
   "execution_count": 16,
   "id": "92a957e3",
   "metadata": {},
   "outputs": [],
   "source": [
    "vectorizer = TfidfVectorizer()\n",
    "vectorizer.fit(X)\n",
    "\n",
    "X = vectorizer.transform(X)"
   ]
  },
  {
   "cell_type": "code",
   "execution_count": 17,
   "id": "32c800ed",
   "metadata": {},
   "outputs": [
    {
     "name": "stdout",
     "output_type": "stream",
     "text": [
      "  (0, 7796)\t0.21459958574036272\n",
      "  (0, 7690)\t0.3492092506388485\n",
      "  (0, 7689)\t0.1444923487680468\n",
      "  (0, 7279)\t0.154663444894284\n",
      "  (0, 6166)\t0.24768946972049075\n",
      "  (0, 6069)\t0.22063218445681515\n",
      "  (0, 5707)\t0.3238293054092591\n",
      "  (0, 5614)\t0.14525160449676916\n",
      "  (0, 5611)\t0.18040592299755906\n",
      "  (0, 5388)\t0.25672838011786553\n",
      "  (0, 4386)\t0.2292148884521789\n",
      "  (0, 3560)\t0.2708496128295223\n",
      "  (0, 2580)\t0.20453240280785132\n",
      "  (0, 2503)\t0.23861481942655385\n",
      "  (0, 1746)\t0.07843353407738198\n",
      "  (0, 1681)\t0.07347680132345842\n",
      "  (0, 1566)\t0.283603043950003\n",
      "  (0, 1438)\t0.11897603272487937\n",
      "  (0, 843)\t0.3492092506388485\n",
      "  (1, 5473)\t0.18609639918266646\n",
      "  (1, 5439)\t0.23386796212815644\n",
      "  (1, 5366)\t0.41471096474968455\n",
      "  (1, 4784)\t0.3669394018041946\n",
      "  (1, 4386)\t0.27220907622319307\n",
      "  (1, 3705)\t0.37486739042815337\n",
      "  :\t:\n",
      "  (10199, 4365)\t0.39537465419917117\n",
      "  (10199, 4007)\t0.19158987722702153\n",
      "  (10199, 3736)\t0.1963541244211072\n",
      "  (10199, 2990)\t0.14019136786056338\n",
      "  (10199, 1465)\t0.19386829924641344\n",
      "  (10199, 1427)\t0.1367516606194904\n",
      "  (10199, 1421)\t0.1608509121644635\n",
      "  (10199, 1295)\t0.1755284687574772\n",
      "  (10199, 1225)\t0.11722984144717521\n",
      "  (10199, 581)\t0.16548030289963214\n",
      "  (10199, 82)\t0.2416655955114412\n",
      "  (10200, 7188)\t0.32240335080427934\n",
      "  (10200, 6933)\t0.1797811657113221\n",
      "  (10200, 6656)\t0.1467606599383548\n",
      "  (10200, 6314)\t0.27785192708732454\n",
      "  (10200, 5935)\t0.3508055854459797\n",
      "  (10200, 5651)\t0.2883689718068783\n",
      "  (10200, 5473)\t0.18937790511881597\n",
      "  (10200, 5119)\t0.249809453060396\n",
      "  (10200, 4994)\t0.3247958422077366\n",
      "  (10200, 4850)\t0.3247958422077366\n",
      "  (10200, 4823)\t0.22193316024563028\n",
      "  (10200, 4215)\t0.17221092911771357\n",
      "  (10200, 3524)\t0.1765615415924567\n",
      "  (10200, 2729)\t0.3734097786116775\n"
     ]
    }
   ],
   "source": [
    "print(X)"
   ]
  },
  {
   "cell_type": "code",
   "execution_count": 18,
   "id": "aa5e1004",
   "metadata": {},
   "outputs": [],
   "source": [
    "vec = CountVectorizer()\n",
    "vec.fit(corpus)\n",
    "\n",
    "X1 = vec.transform(corpus)"
   ]
  },
  {
   "cell_type": "code",
   "execution_count": 19,
   "id": "c641509b",
   "metadata": {},
   "outputs": [
    {
     "name": "stdout",
     "output_type": "stream",
     "text": [
      "  (0, 843)\t1\n",
      "  (0, 1438)\t1\n",
      "  (0, 1566)\t1\n",
      "  (0, 1681)\t1\n",
      "  (0, 1746)\t1\n",
      "  (0, 2503)\t1\n",
      "  (0, 2580)\t1\n",
      "  (0, 3560)\t1\n",
      "  (0, 4386)\t1\n",
      "  (0, 5388)\t1\n",
      "  (0, 5611)\t1\n",
      "  (0, 5614)\t1\n",
      "  (0, 5707)\t1\n",
      "  (0, 6069)\t1\n",
      "  (0, 6166)\t1\n",
      "  (0, 7279)\t1\n",
      "  (0, 7689)\t1\n",
      "  (0, 7690)\t1\n",
      "  (0, 7796)\t1\n",
      "  (1, 176)\t1\n",
      "  (1, 536)\t1\n",
      "  (1, 1053)\t1\n",
      "  (1, 1438)\t1\n",
      "  (1, 1746)\t1\n",
      "  (1, 2049)\t1\n",
      "  :\t:\n",
      "  (10199, 5417)\t1\n",
      "  (10199, 5540)\t1\n",
      "  (10199, 6111)\t1\n",
      "  (10199, 6143)\t1\n",
      "  (10199, 6424)\t1\n",
      "  (10199, 6576)\t1\n",
      "  (10199, 6602)\t1\n",
      "  (10199, 7094)\t1\n",
      "  (10199, 7152)\t1\n",
      "  (10199, 7519)\t1\n",
      "  (10199, 7878)\t1\n",
      "  (10200, 2729)\t1\n",
      "  (10200, 3524)\t1\n",
      "  (10200, 4215)\t1\n",
      "  (10200, 4823)\t1\n",
      "  (10200, 4850)\t1\n",
      "  (10200, 4994)\t1\n",
      "  (10200, 5119)\t1\n",
      "  (10200, 5473)\t1\n",
      "  (10200, 5651)\t1\n",
      "  (10200, 5935)\t1\n",
      "  (10200, 6314)\t1\n",
      "  (10200, 6656)\t1\n",
      "  (10200, 6933)\t1\n",
      "  (10200, 7188)\t1\n"
     ]
    }
   ],
   "source": [
    "print(X1)"
   ]
  },
  {
   "cell_type": "code",
   "execution_count": 20,
   "id": "4390c712",
   "metadata": {},
   "outputs": [],
   "source": [
    "X_train, X_test, Y_train, Y_test = train_test_split(X, Y, test_size = 0.33, stratify=Y, random_state=0)"
   ]
  },
  {
   "cell_type": "code",
   "execution_count": 21,
   "id": "89f54610",
   "metadata": {},
   "outputs": [],
   "source": [
    "X1_train, X1_test, Y_train, Y_test = train_test_split(X1, Y, test_size = 0.33, stratify=Y, random_state=0)"
   ]
  },
  {
   "cell_type": "code",
   "execution_count": 45,
   "id": "bc0ff6df",
   "metadata": {},
   "outputs": [],
   "source": [
    "model = LogisticRegression()"
   ]
  },
  {
   "cell_type": "code",
   "execution_count": 46,
   "id": "a61ba1bc",
   "metadata": {},
   "outputs": [
    {
     "data": {
      "text/plain": [
       "LogisticRegression()"
      ]
     },
     "execution_count": 46,
     "metadata": {},
     "output_type": "execute_result"
    }
   ],
   "source": [
    "model.fit(X_train, Y_train)"
   ]
  },
  {
   "cell_type": "code",
   "execution_count": 47,
   "id": "a171bb67",
   "metadata": {},
   "outputs": [
    {
     "name": "stdout",
     "output_type": "stream",
     "text": [
      "Accuracy score of the test data :  0.9604989604989606\n"
     ]
    }
   ],
   "source": [
    "X_test_prediction = model.predict(X_test)\n",
    "test_data_accuracy = accuracy_score(X_test_prediction, Y_test)\n",
    "print('Accuracy score of the test data : ', test_data_accuracy)"
   ]
  },
  {
   "cell_type": "code",
   "execution_count": 48,
   "id": "3d7ab433",
   "metadata": {},
   "outputs": [
    {
     "name": "stdout",
     "output_type": "stream",
     "text": [
      "precision = 1.0\n",
      "recall= 0.14743589743589744\n",
      "f1-score= 0.2569832402234637\n"
     ]
    }
   ],
   "source": [
    "from sklearn.metrics import precision_score, recall_score, f1_score\n",
    "precision = precision_score(Y_test, X_test_prediction)\n",
    "recall = recall_score(Y_test, X_test_prediction)\n",
    "f1 = f1_score(Y_test, X_test_prediction)\n",
    "print('precision =',precision)\n",
    "print('recall=',recall)\n",
    "print('f1-score=',f1)"
   ]
  },
  {
   "cell_type": "code",
   "execution_count": 49,
   "id": "60f08674",
   "metadata": {},
   "outputs": [
    {
     "data": {
      "text/plain": [
       "array([[3211,    0],\n",
       "       [ 133,   23]], dtype=int64)"
      ]
     },
     "execution_count": 49,
     "metadata": {},
     "output_type": "execute_result"
    }
   ],
   "source": [
    "from sklearn.metrics import confusion_matrix\n",
    "confusion_matrix(Y_test, X_test_prediction)"
   ]
  },
  {
   "cell_type": "code",
   "execution_count": 26,
   "id": "9721a077",
   "metadata": {},
   "outputs": [
    {
     "data": {
      "text/plain": [
       "LogisticRegression()"
      ]
     },
     "execution_count": 26,
     "metadata": {},
     "output_type": "execute_result"
    }
   ],
   "source": [
    "model.fit(X1_train, Y_train)"
   ]
  },
  {
   "cell_type": "code",
   "execution_count": 27,
   "id": "76b20a6d",
   "metadata": {},
   "outputs": [
    {
     "name": "stdout",
     "output_type": "stream",
     "text": [
      "Accuracy score of the test data :  0.9673299673299673\n"
     ]
    }
   ],
   "source": [
    "X1_test_prediction = model.predict(X1_test)\n",
    "test_data_accuracy = accuracy_score(X1_test_prediction, Y_test)\n",
    "print('Accuracy score of the test data : ', test_data_accuracy)"
   ]
  },
  {
   "cell_type": "code",
   "execution_count": 28,
   "id": "98d0891a",
   "metadata": {},
   "outputs": [
    {
     "data": {
      "text/plain": [
       "array([[3204,    7],\n",
       "       [ 103,   53]], dtype=int64)"
      ]
     },
     "execution_count": 28,
     "metadata": {},
     "output_type": "execute_result"
    }
   ],
   "source": [
    "from sklearn.metrics import confusion_matrix\n",
    "confusion_matrix(Y_test, X1_test_prediction)"
   ]
  },
  {
   "cell_type": "code",
   "execution_count": 83,
   "id": "e65f0663",
   "metadata": {},
   "outputs": [
    {
     "name": "stdout",
     "output_type": "stream",
     "text": [
      "accuracy:   0.9715\n"
     ]
    }
   ],
   "source": [
    "from sklearn.linear_model import PassiveAggressiveClassifier\n",
    "linear_clf = PassiveAggressiveClassifier(C=0.1)\n",
    "linear_clf.fit(X_train, Y_train)\n",
    "pred = linear_clf.predict(X_test)\n",
    "score = accuracy_score(Y_test, pred)\n",
    "print(\"accuracy:   %0.4f\" % score)"
   ]
  },
  {
   "cell_type": "code",
   "execution_count": 84,
   "id": "3c63afde",
   "metadata": {},
   "outputs": [
    {
     "data": {
      "text/plain": [
       "array([[3199,   12],\n",
       "       [  84,   72]], dtype=int64)"
      ]
     },
     "execution_count": 84,
     "metadata": {},
     "output_type": "execute_result"
    }
   ],
   "source": [
    "from sklearn.metrics import confusion_matrix\n",
    "confusion_matrix(Y_test, pred)"
   ]
  },
  {
   "cell_type": "code",
   "execution_count": 85,
   "id": "91d2fc8b",
   "metadata": {},
   "outputs": [
    {
     "name": "stdout",
     "output_type": "stream",
     "text": [
      "accuracy:   0.9658\n"
     ]
    }
   ],
   "source": [
    "linear_clf.fit(X1_train, Y_train)\n",
    "pred = linear_clf.predict(X1_test)\n",
    "score = accuracy_score(Y_test, pred)\n",
    "print(\"accuracy:   %0.4f\" % score)"
   ]
  },
  {
   "cell_type": "code",
   "execution_count": 86,
   "id": "ae7a78a9",
   "metadata": {},
   "outputs": [
    {
     "data": {
      "text/plain": [
       "array([[3176,   35],\n",
       "       [  80,   76]], dtype=int64)"
      ]
     },
     "execution_count": 86,
     "metadata": {},
     "output_type": "execute_result"
    }
   ],
   "source": [
    "from sklearn.metrics import confusion_matrix\n",
    "confusion_matrix(Y_test, pred)"
   ]
  },
  {
   "cell_type": "code",
   "execution_count": 33,
   "id": "b8861ea2",
   "metadata": {},
   "outputs": [
    {
     "name": "stdout",
     "output_type": "stream",
     "text": [
      "Accuracy score of the test data :  0.9536679536679536\n"
     ]
    }
   ],
   "source": [
    "from sklearn.naive_bayes import MultinomialNB\n",
    "classifier=MultinomialNB()\n",
    "classifier.fit(X_train, Y_train)\n",
    "pred = classifier.predict(X_test)\n",
    "score = accuracy_score(Y_test, pred)\n",
    "print('Accuracy score of the test data : ', score)"
   ]
  },
  {
   "cell_type": "code",
   "execution_count": 34,
   "id": "0308d77c",
   "metadata": {},
   "outputs": [
    {
     "data": {
      "text/plain": [
       "array([[3211,    0],\n",
       "       [ 156,    0]], dtype=int64)"
      ]
     },
     "execution_count": 34,
     "metadata": {},
     "output_type": "execute_result"
    }
   ],
   "source": [
    "from sklearn.metrics import confusion_matrix\n",
    "confusion_matrix(Y_test, pred)"
   ]
  },
  {
   "cell_type": "code",
   "execution_count": 35,
   "id": "d434402a",
   "metadata": {},
   "outputs": [
    {
     "name": "stdout",
     "output_type": "stream",
     "text": [
      "Accuracy score of the test data :  0.9599049599049599\n"
     ]
    }
   ],
   "source": [
    "classifier.fit(X1_train, Y_train)\n",
    "pred = classifier.predict(X1_test)\n",
    "score = accuracy_score(Y_test, pred)\n",
    "print('Accuracy score of the test data : ', score)"
   ]
  },
  {
   "cell_type": "code",
   "execution_count": 36,
   "id": "c97455cb",
   "metadata": {},
   "outputs": [
    {
     "data": {
      "text/plain": [
       "array([[3183,   28],\n",
       "       [ 107,   49]], dtype=int64)"
      ]
     },
     "execution_count": 36,
     "metadata": {},
     "output_type": "execute_result"
    }
   ],
   "source": [
    "from sklearn.metrics import confusion_matrix\n",
    "confusion_matrix(Y_test, pred)"
   ]
  },
  {
   "cell_type": "code",
   "execution_count": 109,
   "id": "0a13ae7f",
   "metadata": {},
   "outputs": [
    {
     "name": "stdout",
     "output_type": "stream",
     "text": [
      "Accuracy score of the test data :  0.9676269676269676\n"
     ]
    }
   ],
   "source": [
    "from sklearn.neighbors import KNeighborsClassifier\n",
    "knn = KNeighborsClassifier()\n",
    "knn.fit(X_train, Y_train)\n",
    "y_pred = knn.predict(X_test)\n",
    "test_data_accuracy = accuracy_score(y_pred, Y_test)\n",
    "print('Accuracy score of the test data : ', test_data_accuracy)"
   ]
  },
  {
   "cell_type": "code",
   "execution_count": 110,
   "id": "631b5338",
   "metadata": {},
   "outputs": [
    {
     "data": {
      "text/plain": [
       "array([[3205,    6],\n",
       "       [ 103,   53]], dtype=int64)"
      ]
     },
     "execution_count": 110,
     "metadata": {},
     "output_type": "execute_result"
    }
   ],
   "source": [
    "from sklearn.metrics import confusion_matrix\n",
    "confusion_matrix(Y_test, y_pred)"
   ]
  },
  {
   "cell_type": "code",
   "execution_count": 111,
   "id": "2a763db6",
   "metadata": {},
   "outputs": [
    {
     "name": "stdout",
     "output_type": "stream",
     "text": [
      "Accuracy score of the test data :  0.9575289575289575\n"
     ]
    }
   ],
   "source": [
    "knn.fit(X1_train, Y_train)\n",
    "y_pred = knn.predict(X1_test)\n",
    "test_data_accuracy = accuracy_score(y_pred, Y_test)\n",
    "print('Accuracy score of the test data : ', test_data_accuracy)"
   ]
  },
  {
   "cell_type": "code",
   "execution_count": 112,
   "id": "fec95e3e",
   "metadata": {},
   "outputs": [
    {
     "data": {
      "text/plain": [
       "array([[3210,    1],\n",
       "       [ 142,   14]], dtype=int64)"
      ]
     },
     "execution_count": 112,
     "metadata": {},
     "output_type": "execute_result"
    }
   ],
   "source": [
    "from sklearn.metrics import confusion_matrix\n",
    "confusion_matrix(Y_test, y_pred)"
   ]
  },
  {
   "cell_type": "code",
   "execution_count": 27,
   "id": "ff37ad9f",
   "metadata": {},
   "outputs": [
    {
     "name": "stdout",
     "output_type": "stream",
     "text": [
      "Accuracy score of the test data :  0.967032967032967\n"
     ]
    }
   ],
   "source": [
    "from sklearn.tree import DecisionTreeClassifier\n",
    "dt=DecisionTreeClassifier(max_depth=(5))\n",
    "dt.fit(X_train,Y_train)\n",
    "y_pred = dt.predict(X_test)\n",
    "test_data_accuracy = accuracy_score(y_pred, Y_test)\n",
    "print('Accuracy score of the test data : ', test_data_accuracy)"
   ]
  },
  {
   "cell_type": "code",
   "execution_count": 28,
   "id": "5814f0a6",
   "metadata": {},
   "outputs": [
    {
     "data": {
      "text/plain": [
       "array([[3208,    3],\n",
       "       [ 108,   48]], dtype=int64)"
      ]
     },
     "execution_count": 28,
     "metadata": {},
     "output_type": "execute_result"
    }
   ],
   "source": [
    "from sklearn.metrics import confusion_matrix\n",
    "confusion_matrix(Y_test, y_pred)"
   ]
  },
  {
   "cell_type": "code",
   "execution_count": 24,
   "id": "41d489d4",
   "metadata": {},
   "outputs": [
    {
     "name": "stdout",
     "output_type": "stream",
     "text": [
      "Accuracy score of the test data :  0.9664389664389664\n"
     ]
    }
   ],
   "source": [
    "dt1=DecisionTreeClassifier(max_depth=(9))\n",
    "dt1.fit(X1_train,Y_train)\n",
    "y_pred = dt1.predict(X1_test)\n",
    "test_data_accuracy = accuracy_score(y_pred, Y_test)\n",
    "print('Accuracy score of the test data : ', test_data_accuracy)"
   ]
  },
  {
   "cell_type": "code",
   "execution_count": 25,
   "id": "6020a267",
   "metadata": {},
   "outputs": [
    {
     "data": {
      "text/plain": [
       "array([[3207,    4],\n",
       "       [ 109,   47]], dtype=int64)"
      ]
     },
     "execution_count": 25,
     "metadata": {},
     "output_type": "execute_result"
    }
   ],
   "source": [
    "from sklearn.metrics import confusion_matrix\n",
    "confusion_matrix(Y_test, y_pred)"
   ]
  },
  {
   "cell_type": "code",
   "execution_count": 70,
   "id": "244bd543",
   "metadata": {},
   "outputs": [
    {
     "name": "stdout",
     "output_type": "stream",
     "text": [
      "Accuracy score of the test data :  0.9708939708939709\n"
     ]
    }
   ],
   "source": [
    "from sklearn.ensemble import RandomForestClassifier\n",
    "clf=RandomForestClassifier(n_estimators=100)\n",
    "clf.fit(X_train,Y_train)\n",
    "y_pred=clf.predict(X_test)\n",
    "test_data_accuracy = accuracy_score(y_pred, Y_test)\n",
    "print('Accuracy score of the test data : ', test_data_accuracy)"
   ]
  },
  {
   "cell_type": "code",
   "execution_count": 71,
   "id": "71cbc9a9",
   "metadata": {},
   "outputs": [
    {
     "data": {
      "text/plain": [
       "array([[3211,    0],\n",
       "       [  98,   58]], dtype=int64)"
      ]
     },
     "execution_count": 71,
     "metadata": {},
     "output_type": "execute_result"
    }
   ],
   "source": [
    "from sklearn.metrics import confusion_matrix\n",
    "confusion_matrix(Y_test, y_pred)"
   ]
  },
  {
   "cell_type": "code",
   "execution_count": 75,
   "id": "7c770f8b",
   "metadata": {},
   "outputs": [
    {
     "name": "stdout",
     "output_type": "stream",
     "text": [
      "Accuracy score of the test data :  0.9702999702999703\n"
     ]
    }
   ],
   "source": [
    "clf1=RandomForestClassifier(n_estimators=100)\n",
    "clf1.fit(X1_train,Y_train)\n",
    "y_pred=clf1.predict(X1_test)\n",
    "test_data_accuracy = accuracy_score(y_pred, Y_test)\n",
    "print('Accuracy score of the test data : ', test_data_accuracy)"
   ]
  },
  {
   "cell_type": "code",
   "execution_count": 76,
   "id": "3479212c",
   "metadata": {},
   "outputs": [
    {
     "data": {
      "text/plain": [
       "array([[3208,    3],\n",
       "       [  97,   59]], dtype=int64)"
      ]
     },
     "execution_count": 76,
     "metadata": {},
     "output_type": "execute_result"
    }
   ],
   "source": [
    "from sklearn.metrics import confusion_matrix\n",
    "confusion_matrix(Y_test, y_pred)"
   ]
  },
  {
   "cell_type": "code",
   "execution_count": 137,
   "id": "fdd6c34c",
   "metadata": {},
   "outputs": [
    {
     "name": "stdout",
     "output_type": "stream",
     "text": [
      "Accuracy score of the test data :  0.9711909711909712\n"
     ]
    }
   ],
   "source": [
    "from sklearn import svm\n",
    "clf = svm.SVC(kernel='linear',gamma='auto',C=3)\n",
    "clf.fit(X_train, Y_train)\n",
    "y_pred = clf.predict(X_test)\n",
    "test_data_accuracy = accuracy_score(y_pred, Y_test)\n",
    "print('Accuracy score of the test data : ', test_data_accuracy)"
   ]
  },
  {
   "cell_type": "code",
   "execution_count": 138,
   "id": "596c4469",
   "metadata": {},
   "outputs": [
    {
     "data": {
      "text/plain": [
       "array([[3200,   11],\n",
       "       [  86,   70]], dtype=int64)"
      ]
     },
     "execution_count": 138,
     "metadata": {},
     "output_type": "execute_result"
    }
   ],
   "source": [
    "from sklearn.metrics import confusion_matrix\n",
    "confusion_matrix(Y_test, y_pred)"
   ]
  },
  {
   "cell_type": "code",
   "execution_count": 144,
   "id": "bccea1cc",
   "metadata": {},
   "outputs": [
    {
     "name": "stdout",
     "output_type": "stream",
     "text": [
      "Accuracy score of the test data :  0.9673299673299673\n"
     ]
    }
   ],
   "source": [
    "from sklearn import svm\n",
    "clf1 = svm.SVC(kernel='linear',gamma='auto')\n",
    "clf1.fit(X1_train, Y_train)\n",
    "y_pred = clf1.predict(X1_test)\n",
    "test_data_accuracy = accuracy_score(y_pred, Y_test)\n",
    "print('Accuracy score of the test data : ', test_data_accuracy)"
   ]
  },
  {
   "cell_type": "code",
   "execution_count": 145,
   "id": "98956d88",
   "metadata": {},
   "outputs": [
    {
     "data": {
      "text/plain": [
       "array([[3185,   26],\n",
       "       [  84,   72]], dtype=int64)"
      ]
     },
     "execution_count": 145,
     "metadata": {},
     "output_type": "execute_result"
    }
   ],
   "source": [
    "from sklearn.metrics import confusion_matrix\n",
    "confusion_matrix(Y_test, y_pred)"
   ]
  },
  {
   "cell_type": "code",
   "execution_count": 110,
   "id": "07b58134",
   "metadata": {},
   "outputs": [
    {
     "name": "stdout",
     "output_type": "stream",
     "text": [
      "Accuracy score of the test data :  0.9640629640629641\n"
     ]
    }
   ],
   "source": [
    "from sklearn.ensemble import AdaBoostClassifier\n",
    "abc = AdaBoostClassifier()\n",
    "abc.fit(X_train,Y_train)\n",
    "y_pred=abc.predict(X_test)\n",
    "test_data_accuracy = accuracy_score(y_pred, Y_test)\n",
    "print('Accuracy score of the test data : ', test_data_accuracy)"
   ]
  },
  {
   "cell_type": "code",
   "execution_count": 111,
   "id": "6e62f37f",
   "metadata": {},
   "outputs": [
    {
     "data": {
      "text/plain": [
       "array([[3196,   15],\n",
       "       [ 106,   50]], dtype=int64)"
      ]
     },
     "execution_count": 111,
     "metadata": {},
     "output_type": "execute_result"
    }
   ],
   "source": [
    "from sklearn.metrics import confusion_matrix\n",
    "confusion_matrix(Y_test, y_pred)"
   ]
  },
  {
   "cell_type": "code",
   "execution_count": 112,
   "id": "747e4e82",
   "metadata": {},
   "outputs": [
    {
     "name": "stdout",
     "output_type": "stream",
     "text": [
      "Accuracy score of the test data :  0.9622809622809623\n"
     ]
    }
   ],
   "source": [
    "from sklearn.ensemble import AdaBoostClassifier\n",
    "abc = AdaBoostClassifier()\n",
    "abc.fit(X1_train,Y_train)\n",
    "y_pred=abc.predict(X1_test)\n",
    "test_data_accuracy = accuracy_score(y_pred, Y_test)\n",
    "print('Accuracy score of the test data : ', test_data_accuracy)"
   ]
  },
  {
   "cell_type": "code",
   "execution_count": 113,
   "id": "7de18929",
   "metadata": {},
   "outputs": [
    {
     "data": {
      "text/plain": [
       "array([[3191,   20],\n",
       "       [ 107,   49]], dtype=int64)"
      ]
     },
     "execution_count": 113,
     "metadata": {},
     "output_type": "execute_result"
    }
   ],
   "source": [
    "from sklearn.metrics import confusion_matrix\n",
    "confusion_matrix(Y_test, y_pred)"
   ]
  },
  {
   "cell_type": "code",
   "execution_count": 121,
   "id": "7d945255",
   "metadata": {},
   "outputs": [
    {
     "data": {
      "text/plain": [
       "0.9723789723789724"
      ]
     },
     "execution_count": 121,
     "metadata": {},
     "output_type": "execute_result"
    }
   ],
   "source": [
    "from sklearn.neural_network import MLPClassifier\n",
    "model = MLPClassifier()\n",
    "model.fit(X_train, Y_train)\n",
    "y_pred = model.predict(X_test)\n",
    "accuracy = accuracy_score(Y_test, y_pred)\n",
    "accuracy"
   ]
  },
  {
   "cell_type": "code",
   "execution_count": 122,
   "id": "2022f03d",
   "metadata": {},
   "outputs": [
    {
     "data": {
      "text/plain": [
       "array([[3198,   13],\n",
       "       [  80,   76]], dtype=int64)"
      ]
     },
     "execution_count": 122,
     "metadata": {},
     "output_type": "execute_result"
    }
   ],
   "source": [
    "from sklearn.metrics import confusion_matrix\n",
    "confusion_matrix(Y_test, y_pred)"
   ]
  },
  {
   "cell_type": "code",
   "execution_count": 116,
   "id": "57e78718",
   "metadata": {},
   "outputs": [
    {
     "data": {
      "text/plain": [
       "0.972972972972973"
      ]
     },
     "execution_count": 116,
     "metadata": {},
     "output_type": "execute_result"
    }
   ],
   "source": [
    "from sklearn.neural_network import MLPClassifier\n",
    "model = MLPClassifier()\n",
    "model.fit(X1_train, Y_train)\n",
    "y_pred = model.predict(X1_test)\n",
    "accuracy = accuracy_score(Y_test, y_pred)\n",
    "accuracy"
   ]
  },
  {
   "cell_type": "code",
   "execution_count": 117,
   "id": "2782d41c",
   "metadata": {},
   "outputs": [
    {
     "data": {
      "text/plain": [
       "array([[3200,   11],\n",
       "       [  80,   76]], dtype=int64)"
      ]
     },
     "execution_count": 117,
     "metadata": {},
     "output_type": "execute_result"
    }
   ],
   "source": [
    "from sklearn.metrics import confusion_matrix\n",
    "confusion_matrix(Y_test, y_pred)"
   ]
  },
  {
   "cell_type": "code",
   "execution_count": 123,
   "id": "b5414311",
   "metadata": {},
   "outputs": [
    {
     "name": "stdout",
     "output_type": "stream",
     "text": [
      "Accuracy score of the test data :  0.9649539649539649\n"
     ]
    }
   ],
   "source": [
    "from sklearn.ensemble import GradientBoostingClassifier\n",
    "gbc=GradientBoostingClassifier(random_state=10)\n",
    "gbc.fit(X_train,Y_train)\n",
    "y_pred=gbc.predict(X_test)\n",
    "test_data_accuracy = accuracy_score(y_pred, Y_test)\n",
    "print('Accuracy score of the test data : ', test_data_accuracy)"
   ]
  },
  {
   "cell_type": "code",
   "execution_count": 124,
   "id": "7b285442",
   "metadata": {},
   "outputs": [
    {
     "data": {
      "text/plain": [
       "array([[3197,   14],\n",
       "       [ 104,   52]], dtype=int64)"
      ]
     },
     "execution_count": 124,
     "metadata": {},
     "output_type": "execute_result"
    }
   ],
   "source": [
    "from sklearn.metrics import confusion_matrix\n",
    "confusion_matrix(Y_test, y_pred)"
   ]
  },
  {
   "cell_type": "code",
   "execution_count": 125,
   "id": "0dbe4bb6",
   "metadata": {},
   "outputs": [
    {
     "name": "stdout",
     "output_type": "stream",
     "text": [
      "Accuracy score of the test data :  0.967032967032967\n"
     ]
    }
   ],
   "source": [
    "from sklearn.ensemble import GradientBoostingClassifier\n",
    "gbc=GradientBoostingClassifier(random_state=10)\n",
    "gbc.fit(X1_train,Y_train)\n",
    "y_pred=gbc.predict(X1_test)\n",
    "test_data_accuracy = accuracy_score(y_pred, Y_test)\n",
    "print('Accuracy score of the test data : ', test_data_accuracy)"
   ]
  },
  {
   "cell_type": "code",
   "execution_count": 126,
   "id": "2427ae28",
   "metadata": {},
   "outputs": [
    {
     "data": {
      "text/plain": [
       "array([[3204,    7],\n",
       "       [ 104,   52]], dtype=int64)"
      ]
     },
     "execution_count": 126,
     "metadata": {},
     "output_type": "execute_result"
    }
   ],
   "source": [
    "from sklearn.metrics import confusion_matrix\n",
    "confusion_matrix(Y_test, y_pred)"
   ]
  },
  {
   "cell_type": "code",
   "execution_count": 22,
   "id": "5cacd7ca",
   "metadata": {},
   "outputs": [
    {
     "data": {
      "text/plain": [
       "0.9697059697059697"
      ]
     },
     "execution_count": 22,
     "metadata": {},
     "output_type": "execute_result"
    }
   ],
   "source": [
    "from xgboost import XGBClassifier\n",
    "model = XGBClassifier()\n",
    "model.fit(X_train, Y_train)\n",
    "y_pred = model.predict(X_test)\n",
    "accuracy = accuracy_score(Y_test, y_pred)\n",
    "accuracy"
   ]
  },
  {
   "cell_type": "code",
   "execution_count": 23,
   "id": "ca631fae",
   "metadata": {},
   "outputs": [
    {
     "data": {
      "text/plain": [
       "array([[3204,    7],\n",
       "       [  95,   61]], dtype=int64)"
      ]
     },
     "execution_count": 23,
     "metadata": {},
     "output_type": "execute_result"
    }
   ],
   "source": [
    "from sklearn.metrics import confusion_matrix\n",
    "confusion_matrix(Y_test, y_pred)"
   ]
  },
  {
   "cell_type": "code",
   "execution_count": 127,
   "id": "38349ab7",
   "metadata": {},
   "outputs": [
    {
     "data": {
      "text/plain": [
       "0.9667359667359667"
      ]
     },
     "execution_count": 127,
     "metadata": {},
     "output_type": "execute_result"
    }
   ],
   "source": [
    "from xgboost import XGBClassifier\n",
    "model = XGBClassifier()\n",
    "model.fit(X1_train, Y_train)\n",
    "y_pred = model.predict(X1_test)\n",
    "accuracy = accuracy_score(Y_test, y_pred)\n",
    "accuracy"
   ]
  },
  {
   "cell_type": "code",
   "execution_count": 128,
   "id": "3fe4e5bb",
   "metadata": {},
   "outputs": [
    {
     "data": {
      "text/plain": [
       "array([[3203,    8],\n",
       "       [ 104,   52]], dtype=int64)"
      ]
     },
     "execution_count": 128,
     "metadata": {},
     "output_type": "execute_result"
    }
   ],
   "source": [
    "from sklearn.metrics import confusion_matrix\n",
    "confusion_matrix(Y_test, y_pred)"
   ]
  },
  {
   "cell_type": "code",
   "execution_count": 129,
   "id": "23bf04e3",
   "metadata": {},
   "outputs": [],
   "source": [
    "estimators = [\n",
    "    ('dt', DecisionTreeClassifier()),\n",
    "    ('mn', MultinomialNB()),\n",
    "    ('rf', RandomForestClassifier())\n",
    "]\n",
    "from sklearn.ensemble import StackingClassifier\n",
    "\n",
    "clf = StackingClassifier(\n",
    "    estimators=estimators, \n",
    "    final_estimator=LogisticRegression(),\n",
    "    cv=10\n",
    ")"
   ]
  },
  {
   "cell_type": "code",
   "execution_count": 130,
   "id": "a924c992",
   "metadata": {},
   "outputs": [
    {
     "data": {
      "text/plain": [
       "StackingClassifier(cv=10,\n",
       "                   estimators=[('dt', DecisionTreeClassifier()),\n",
       "                               ('mn', MultinomialNB()),\n",
       "                               ('rf', RandomForestClassifier())],\n",
       "                   final_estimator=LogisticRegression())"
      ]
     },
     "execution_count": 130,
     "metadata": {},
     "output_type": "execute_result"
    }
   ],
   "source": [
    "clf.fit(X_train, Y_train)"
   ]
  },
  {
   "cell_type": "code",
   "execution_count": 131,
   "id": "c7c57b25",
   "metadata": {},
   "outputs": [
    {
     "data": {
      "text/plain": [
       "0.97000297000297"
      ]
     },
     "execution_count": 131,
     "metadata": {},
     "output_type": "execute_result"
    }
   ],
   "source": [
    "y_pred = clf.predict(X_test)\n",
    "from sklearn.metrics import accuracy_score\n",
    "accuracy_score(Y_test,y_pred)"
   ]
  },
  {
   "cell_type": "code",
   "execution_count": 132,
   "id": "17ac3a43",
   "metadata": {},
   "outputs": [
    {
     "data": {
      "text/plain": [
       "array([[3203,    8],\n",
       "       [  93,   63]], dtype=int64)"
      ]
     },
     "execution_count": 132,
     "metadata": {},
     "output_type": "execute_result"
    }
   ],
   "source": [
    "from sklearn.metrics import confusion_matrix\n",
    "confusion_matrix(Y_test, y_pred)"
   ]
  },
  {
   "cell_type": "code",
   "execution_count": 133,
   "id": "d801cfb5",
   "metadata": {},
   "outputs": [
    {
     "data": {
      "text/plain": [
       "StackingClassifier(cv=10,\n",
       "                   estimators=[('dt', DecisionTreeClassifier()),\n",
       "                               ('mn', MultinomialNB()),\n",
       "                               ('rf', RandomForestClassifier())],\n",
       "                   final_estimator=LogisticRegression())"
      ]
     },
     "execution_count": 133,
     "metadata": {},
     "output_type": "execute_result"
    }
   ],
   "source": [
    "clf.fit(X1_train, Y_train)"
   ]
  },
  {
   "cell_type": "code",
   "execution_count": 134,
   "id": "f4facb59",
   "metadata": {},
   "outputs": [
    {
     "data": {
      "text/plain": [
       "0.9711909711909712"
      ]
     },
     "execution_count": 134,
     "metadata": {},
     "output_type": "execute_result"
    }
   ],
   "source": [
    "y_pred = clf.predict(X1_test)\n",
    "from sklearn.metrics import accuracy_score\n",
    "accuracy_score(Y_test,y_pred)"
   ]
  },
  {
   "cell_type": "code",
   "execution_count": 135,
   "id": "ddce5fda",
   "metadata": {},
   "outputs": [
    {
     "data": {
      "text/plain": [
       "array([[3202,    9],\n",
       "       [  88,   68]], dtype=int64)"
      ]
     },
     "execution_count": 135,
     "metadata": {},
     "output_type": "execute_result"
    }
   ],
   "source": [
    "from sklearn.metrics import confusion_matrix\n",
    "confusion_matrix(Y_test, y_pred)"
   ]
  },
  {
   "cell_type": "code",
   "execution_count": 164,
   "id": "648044ff",
   "metadata": {},
   "outputs": [],
   "source": [
    "estimators = [\n",
    "    ('pac', PassiveAggressiveClassifier()),\n",
    "    ('gb', GradientBoostingClassifier(random_state=10)),\n",
    "    ('rf', RandomForestClassifier())\n",
    "]\n",
    "from sklearn.ensemble import StackingClassifier\n",
    "\n",
    "clf = StackingClassifier(\n",
    "    estimators=estimators, \n",
    "    final_estimator=MLPClassifier(),\n",
    "    cv=10\n",
    ")"
   ]
  },
  {
   "cell_type": "code",
   "execution_count": 165,
   "id": "5c44bc17",
   "metadata": {},
   "outputs": [
    {
     "data": {
      "text/plain": [
       "StackingClassifier(cv=10,\n",
       "                   estimators=[('pac', PassiveAggressiveClassifier()),\n",
       "                               ('gb',\n",
       "                                GradientBoostingClassifier(random_state=10)),\n",
       "                               ('rf', RandomForestClassifier())],\n",
       "                   final_estimator=MLPClassifier())"
      ]
     },
     "execution_count": 165,
     "metadata": {},
     "output_type": "execute_result"
    }
   ],
   "source": [
    "clf.fit(X_train, Y_train)"
   ]
  },
  {
   "cell_type": "code",
   "execution_count": 166,
   "id": "c679ef69",
   "metadata": {},
   "outputs": [
    {
     "data": {
      "text/plain": [
       "0.9717849717849718"
      ]
     },
     "execution_count": 166,
     "metadata": {},
     "output_type": "execute_result"
    }
   ],
   "source": [
    "y_pred = clf.predict(X_test)\n",
    "from sklearn.metrics import accuracy_score\n",
    "accuracy_score(Y_test,y_pred)"
   ]
  },
  {
   "cell_type": "code",
   "execution_count": 167,
   "id": "88568eed",
   "metadata": {},
   "outputs": [
    {
     "data": {
      "text/plain": [
       "array([[3202,    9],\n",
       "       [  86,   70]], dtype=int64)"
      ]
     },
     "execution_count": 167,
     "metadata": {},
     "output_type": "execute_result"
    }
   ],
   "source": [
    "from sklearn.metrics import confusion_matrix\n",
    "confusion_matrix(Y_test, y_pred)"
   ]
  },
  {
   "cell_type": "code",
   "execution_count": 168,
   "id": "cd2e0fd8",
   "metadata": {},
   "outputs": [
    {
     "data": {
      "text/plain": [
       "StackingClassifier(cv=10,\n",
       "                   estimators=[('pac', PassiveAggressiveClassifier()),\n",
       "                               ('gb',\n",
       "                                GradientBoostingClassifier(random_state=10)),\n",
       "                               ('rf', RandomForestClassifier())],\n",
       "                   final_estimator=MLPClassifier())"
      ]
     },
     "execution_count": 168,
     "metadata": {},
     "output_type": "execute_result"
    }
   ],
   "source": [
    "clf.fit(X1_train, Y_train)"
   ]
  },
  {
   "cell_type": "code",
   "execution_count": 169,
   "id": "eb9f227c",
   "metadata": {},
   "outputs": [
    {
     "data": {
      "text/plain": [
       "0.9726759726759727"
      ]
     },
     "execution_count": 169,
     "metadata": {},
     "output_type": "execute_result"
    }
   ],
   "source": [
    "y_pred = clf.predict(X1_test)\n",
    "from sklearn.metrics import accuracy_score\n",
    "accuracy_score(Y_test,y_pred)"
   ]
  },
  {
   "cell_type": "code",
   "execution_count": 170,
   "id": "e15829c9",
   "metadata": {},
   "outputs": [
    {
     "data": {
      "text/plain": [
       "array([[3205,    6],\n",
       "       [  86,   70]], dtype=int64)"
      ]
     },
     "execution_count": 170,
     "metadata": {},
     "output_type": "execute_result"
    }
   ],
   "source": [
    "from sklearn.metrics import confusion_matrix\n",
    "confusion_matrix(Y_test, y_pred)"
   ]
  },
  {
   "cell_type": "code",
   "execution_count": 187,
   "id": "1d886de2",
   "metadata": {},
   "outputs": [],
   "source": [
    "estimators = [\n",
    "    ('pac', PassiveAggressiveClassifier()),\n",
    "    ('lr', LogisticRegression()),\n",
    "    ('rf', RandomForestClassifier())\n",
    "]\n",
    "from sklearn.ensemble import StackingClassifier\n",
    "\n",
    "clf = StackingClassifier(\n",
    "    estimators=estimators, \n",
    "    final_estimator=MLPClassifier(),\n",
    "    cv=10\n",
    ")"
   ]
  },
  {
   "cell_type": "code",
   "execution_count": 188,
   "id": "598b2b36",
   "metadata": {},
   "outputs": [
    {
     "data": {
      "text/plain": [
       "StackingClassifier(cv=10,\n",
       "                   estimators=[('pac', PassiveAggressiveClassifier()),\n",
       "                               ('lr', LogisticRegression()),\n",
       "                               ('rf', RandomForestClassifier())],\n",
       "                   final_estimator=MLPClassifier())"
      ]
     },
     "execution_count": 188,
     "metadata": {},
     "output_type": "execute_result"
    }
   ],
   "source": [
    "clf.fit(X_train, Y_train)"
   ]
  },
  {
   "cell_type": "code",
   "execution_count": 189,
   "id": "a83372b4",
   "metadata": {},
   "outputs": [
    {
     "data": {
      "text/plain": [
       "0.972972972972973"
      ]
     },
     "execution_count": 189,
     "metadata": {},
     "output_type": "execute_result"
    }
   ],
   "source": [
    "y_pred = clf.predict(X_test)\n",
    "from sklearn.metrics import accuracy_score\n",
    "accuracy_score(Y_test,y_pred)"
   ]
  },
  {
   "cell_type": "code",
   "execution_count": 190,
   "id": "778dc116",
   "metadata": {},
   "outputs": [
    {
     "data": {
      "text/plain": [
       "array([[3204,    7],\n",
       "       [  84,   72]], dtype=int64)"
      ]
     },
     "execution_count": 190,
     "metadata": {},
     "output_type": "execute_result"
    }
   ],
   "source": [
    "from sklearn.metrics import confusion_matrix\n",
    "confusion_matrix(Y_test, y_pred)"
   ]
  },
  {
   "cell_type": "code",
   "execution_count": 191,
   "id": "0d788336",
   "metadata": {},
   "outputs": [
    {
     "data": {
      "text/plain": [
       "StackingClassifier(cv=10,\n",
       "                   estimators=[('pac', PassiveAggressiveClassifier()),\n",
       "                               ('lr', LogisticRegression()),\n",
       "                               ('rf', RandomForestClassifier())],\n",
       "                   final_estimator=MLPClassifier())"
      ]
     },
     "execution_count": 191,
     "metadata": {},
     "output_type": "execute_result"
    }
   ],
   "source": [
    "clf.fit(X1_train, Y_train)"
   ]
  },
  {
   "cell_type": "code",
   "execution_count": 192,
   "id": "f4d27f07",
   "metadata": {},
   "outputs": [
    {
     "data": {
      "text/plain": [
       "0.9694089694089694"
      ]
     },
     "execution_count": 192,
     "metadata": {},
     "output_type": "execute_result"
    }
   ],
   "source": [
    "y_pred = clf.predict(X1_test)\n",
    "from sklearn.metrics import accuracy_score\n",
    "accuracy_score(Y_test,y_pred)"
   ]
  },
  {
   "cell_type": "code",
   "execution_count": 193,
   "id": "58887155",
   "metadata": {},
   "outputs": [
    {
     "data": {
      "text/plain": [
       "array([[3196,   15],\n",
       "       [  88,   68]], dtype=int64)"
      ]
     },
     "execution_count": 193,
     "metadata": {},
     "output_type": "execute_result"
    }
   ],
   "source": [
    "from sklearn.metrics import confusion_matrix\n",
    "confusion_matrix(Y_test, y_pred)"
   ]
  },
  {
   "cell_type": "code",
   "execution_count": 28,
   "id": "07d27f6b",
   "metadata": {},
   "outputs": [
    {
     "data": {
      "text/plain": [
       "BaggingClassifier(base_estimator=PassiveAggressiveClassifier(), max_samples=0.8,\n",
       "                  n_estimators=50, oob_score=True, random_state=0)"
      ]
     },
     "execution_count": 28,
     "metadata": {},
     "output_type": "execute_result"
    }
   ],
   "source": [
    "from sklearn.ensemble import BaggingClassifier\n",
    "from sklearn.tree import DecisionTreeClassifier\n",
    "from sklearn.linear_model import LogisticRegression\n",
    "from sklearn.linear_model import PassiveAggressiveClassifier\n",
    "from sklearn.naive_bayes import MultinomialNB\n",
    "from sklearn.neighbors import KNeighborsClassifier\n",
    "from sklearn.ensemble import RandomForestClassifier\n",
    "from sklearn.ensemble import AdaBoostClassifier\n",
    "from sklearn.neural_network import MLPClassifier\n",
    "from sklearn.ensemble import GradientBoostingClassifier\n",
    "from sklearn import svm\n",
    "from xgboost import XGBClassifier\n",
    "bag_model = BaggingClassifier(\n",
    "    base_estimator=PassiveAggressiveClassifier(), \n",
    "    n_estimators=50, \n",
    "    max_samples=0.8, \n",
    "    oob_score=True,\n",
    "    random_state=0\n",
    ")\n",
    "bag_model.fit(X_train, Y_train)"
   ]
  },
  {
   "cell_type": "code",
   "execution_count": 29,
   "id": "b33b9a97",
   "metadata": {},
   "outputs": [
    {
     "name": "stdout",
     "output_type": "stream",
     "text": [
      "Accuracy score of the test data :  0.9717849717849718\n"
     ]
    }
   ],
   "source": [
    "pred = bag_model.predict(X_test)\n",
    "score = accuracy_score(Y_test, pred)\n",
    "print('Accuracy score of the test data : ', score)"
   ]
  },
  {
   "cell_type": "code",
   "execution_count": 30,
   "id": "9df67d5a",
   "metadata": {},
   "outputs": [
    {
     "data": {
      "text/plain": [
       "array([[3207,    4],\n",
       "       [  91,   65]], dtype=int64)"
      ]
     },
     "execution_count": 30,
     "metadata": {},
     "output_type": "execute_result"
    }
   ],
   "source": [
    "from sklearn.metrics import confusion_matrix\n",
    "confusion_matrix(Y_test, pred)"
   ]
  },
  {
   "cell_type": "code",
   "execution_count": 31,
   "id": "77da701c",
   "metadata": {},
   "outputs": [
    {
     "data": {
      "text/plain": [
       "BaggingClassifier(base_estimator=PassiveAggressiveClassifier(), max_samples=0.8,\n",
       "                  n_estimators=50, oob_score=True, random_state=0)"
      ]
     },
     "execution_count": 31,
     "metadata": {},
     "output_type": "execute_result"
    }
   ],
   "source": [
    "from sklearn.ensemble import BaggingClassifier\n",
    "from sklearn.tree import DecisionTreeClassifier\n",
    "bag_model = BaggingClassifier(\n",
    "    base_estimator=PassiveAggressiveClassifier(), \n",
    "    n_estimators=50, \n",
    "    max_samples=0.8, \n",
    "    oob_score=True,\n",
    "    random_state=0\n",
    ")\n",
    "bag_model.fit(X1_train, Y_train)"
   ]
  },
  {
   "cell_type": "code",
   "execution_count": 32,
   "id": "e568961d",
   "metadata": {},
   "outputs": [
    {
     "name": "stdout",
     "output_type": "stream",
     "text": [
      "Accuracy score of the test data :  0.9708939708939709\n"
     ]
    }
   ],
   "source": [
    "pred = bag_model.predict(X1_test)\n",
    "score = accuracy_score(Y_test, pred)\n",
    "print('Accuracy score of the test data : ', score)"
   ]
  },
  {
   "cell_type": "code",
   "execution_count": 33,
   "id": "1cc4cb2d",
   "metadata": {},
   "outputs": [
    {
     "data": {
      "text/plain": [
       "array([[3202,    9],\n",
       "       [  89,   67]], dtype=int64)"
      ]
     },
     "execution_count": 33,
     "metadata": {},
     "output_type": "execute_result"
    }
   ],
   "source": [
    "from sklearn.metrics import confusion_matrix\n",
    "confusion_matrix(Y_test, pred)"
   ]
  },
  {
   "cell_type": "code",
   "execution_count": 57,
   "id": "e6b4fa82",
   "metadata": {},
   "outputs": [],
   "source": [
    "estimators = [\n",
    "    ('dt', DecisionTreeClassifier()),\n",
    "    ('pac', PassiveAggressiveClassifier()),\n",
    "    ('rf', RandomForestClassifier()),\n",
    "    ('svm', LogisticRegression())\n",
    "]\n",
    "from sklearn.ensemble import StackingClassifier\n",
    "\n",
    "clf = StackingClassifier(\n",
    "    estimators=estimators, \n",
    "    final_estimator=MLPClassifier(),\n",
    "    cv=10\n",
    ")"
   ]
  },
  {
   "cell_type": "code",
   "execution_count": 58,
   "id": "70a234f2",
   "metadata": {},
   "outputs": [
    {
     "data": {
      "text/plain": [
       "StackingClassifier(cv=10,\n",
       "                   estimators=[('dt', DecisionTreeClassifier()),\n",
       "                               ('pac', PassiveAggressiveClassifier()),\n",
       "                               ('rf', RandomForestClassifier()),\n",
       "                               ('svm', LogisticRegression())],\n",
       "                   final_estimator=MLPClassifier())"
      ]
     },
     "execution_count": 58,
     "metadata": {},
     "output_type": "execute_result"
    }
   ],
   "source": [
    "clf.fit(X_train, Y_train)"
   ]
  },
  {
   "cell_type": "code",
   "execution_count": 59,
   "id": "45ecbbc7",
   "metadata": {},
   "outputs": [
    {
     "data": {
      "text/plain": [
       "0.972972972972973"
      ]
     },
     "execution_count": 59,
     "metadata": {},
     "output_type": "execute_result"
    }
   ],
   "source": [
    "y_pred = clf.predict(X_test)\n",
    "from sklearn.metrics import accuracy_score\n",
    "accuracy_score(Y_test,y_pred)"
   ]
  },
  {
   "cell_type": "code",
   "execution_count": 60,
   "id": "f0f4e807",
   "metadata": {},
   "outputs": [
    {
     "data": {
      "text/plain": [
       "array([[3206,    5],\n",
       "       [  86,   70]], dtype=int64)"
      ]
     },
     "execution_count": 60,
     "metadata": {},
     "output_type": "execute_result"
    }
   ],
   "source": [
    "from sklearn.metrics import confusion_matrix\n",
    "confusion_matrix(Y_test, y_pred)"
   ]
  },
  {
   "cell_type": "code",
   "execution_count": 61,
   "id": "14ccbba3",
   "metadata": {},
   "outputs": [
    {
     "data": {
      "text/plain": [
       "StackingClassifier(cv=10,\n",
       "                   estimators=[('dt', DecisionTreeClassifier()),\n",
       "                               ('pac', PassiveAggressiveClassifier()),\n",
       "                               ('rf', RandomForestClassifier()),\n",
       "                               ('svm', LogisticRegression())],\n",
       "                   final_estimator=MLPClassifier())"
      ]
     },
     "execution_count": 61,
     "metadata": {},
     "output_type": "execute_result"
    }
   ],
   "source": [
    "clf.fit(X1_train, Y_train)"
   ]
  },
  {
   "cell_type": "code",
   "execution_count": 62,
   "id": "8218f7b4",
   "metadata": {},
   "outputs": [
    {
     "data": {
      "text/plain": [
       "0.9717849717849718"
      ]
     },
     "execution_count": 62,
     "metadata": {},
     "output_type": "execute_result"
    }
   ],
   "source": [
    "y_pred = clf.predict(X1_test)\n",
    "from sklearn.metrics import accuracy_score\n",
    "accuracy_score(Y_test,y_pred)"
   ]
  },
  {
   "cell_type": "code",
   "execution_count": 63,
   "id": "26e056cf",
   "metadata": {},
   "outputs": [
    {
     "data": {
      "text/plain": [
       "array([[3202,    9],\n",
       "       [  86,   70]], dtype=int64)"
      ]
     },
     "execution_count": 63,
     "metadata": {},
     "output_type": "execute_result"
    }
   ],
   "source": [
    "from sklearn.metrics import confusion_matrix\n",
    "confusion_matrix(Y_test, y_pred)"
   ]
  },
  {
   "cell_type": "code",
   "execution_count": 64,
   "id": "79667a16",
   "metadata": {},
   "outputs": [
    {
     "data": {
      "text/plain": [
       "0.9688149688149689"
      ]
     },
     "execution_count": 64,
     "metadata": {},
     "output_type": "execute_result"
    }
   ],
   "source": [
    "from sklearn.ensemble import VotingClassifier\n",
    "clf111 = DecisionTreeClassifier()\n",
    "clf222 = MultinomialNB()\n",
    "clf333 = RandomForestClassifier()\n",
    "model = VotingClassifier(estimators=[('dt',clf111 ), ('mnb', clf222),('rf',clf333)], voting='hard')\n",
    "model.fit(X_train,Y_train)\n",
    "y_pred = model.predict(X_test)\n",
    "accuracy_score(Y_test,y_pred)"
   ]
  },
  {
   "cell_type": "code",
   "execution_count": 65,
   "id": "1a08cfd9",
   "metadata": {},
   "outputs": [
    {
     "data": {
      "text/plain": [
       "array([[3211,    0],\n",
       "       [ 105,   51]], dtype=int64)"
      ]
     },
     "execution_count": 65,
     "metadata": {},
     "output_type": "execute_result"
    }
   ],
   "source": [
    "from sklearn.metrics import confusion_matrix\n",
    "confusion_matrix(Y_test, y_pred)"
   ]
  },
  {
   "cell_type": "code",
   "execution_count": 66,
   "id": "94b9f318",
   "metadata": {},
   "outputs": [
    {
     "data": {
      "text/plain": [
       "0.9705969705969706"
      ]
     },
     "execution_count": 66,
     "metadata": {},
     "output_type": "execute_result"
    }
   ],
   "source": [
    "from sklearn.ensemble import VotingClassifier\n",
    "clf111 = DecisionTreeClassifier()\n",
    "clf222 = MultinomialNB()\n",
    "clf333 = RandomForestClassifier()\n",
    "model = VotingClassifier(estimators=[('dt',clf111 ), ('mnb', clf222),('rf',clf333)], voting='soft')\n",
    "model.fit(X_train,Y_train)\n",
    "y_pred = model.predict(X_test)\n",
    "accuracy_score(Y_test,y_pred)"
   ]
  },
  {
   "cell_type": "code",
   "execution_count": 67,
   "id": "cd298524",
   "metadata": {},
   "outputs": [
    {
     "data": {
      "text/plain": [
       "array([[3210,    1],\n",
       "       [  98,   58]], dtype=int64)"
      ]
     },
     "execution_count": 67,
     "metadata": {},
     "output_type": "execute_result"
    }
   ],
   "source": [
    "from sklearn.metrics import confusion_matrix\n",
    "confusion_matrix(Y_test, y_pred)"
   ]
  },
  {
   "cell_type": "code",
   "execution_count": 68,
   "id": "79f4509e",
   "metadata": {},
   "outputs": [
    {
     "data": {
      "text/plain": [
       "0.9702999702999703"
      ]
     },
     "execution_count": 68,
     "metadata": {},
     "output_type": "execute_result"
    }
   ],
   "source": [
    "from sklearn.ensemble import VotingClassifier\n",
    "clf111 = DecisionTreeClassifier()\n",
    "clf222 = MultinomialNB()\n",
    "clf333 = RandomForestClassifier()\n",
    "model = VotingClassifier(estimators=[('dt',clf111 ), ('mnb', clf222),('rf',clf333)], voting='hard')\n",
    "model.fit(X1_train,Y_train)\n",
    "model.score(X1_test,Y_test)"
   ]
  },
  {
   "cell_type": "code",
   "execution_count": 69,
   "id": "ecb487af",
   "metadata": {},
   "outputs": [
    {
     "data": {
      "text/plain": [
       "array([[3210,    1],\n",
       "       [  98,   58]], dtype=int64)"
      ]
     },
     "execution_count": 69,
     "metadata": {},
     "output_type": "execute_result"
    }
   ],
   "source": [
    "from sklearn.metrics import confusion_matrix\n",
    "confusion_matrix(Y_test, y_pred)"
   ]
  },
  {
   "cell_type": "code",
   "execution_count": 70,
   "id": "88f6eb15",
   "metadata": {},
   "outputs": [
    {
     "data": {
      "text/plain": [
       "0.9708939708939709"
      ]
     },
     "execution_count": 70,
     "metadata": {},
     "output_type": "execute_result"
    }
   ],
   "source": [
    "from sklearn.ensemble import VotingClassifier\n",
    "clf111 = DecisionTreeClassifier()\n",
    "clf222 = MultinomialNB()\n",
    "clf333 = RandomForestClassifier()\n",
    "model = VotingClassifier(estimators=[('dt',clf111 ), ('mnb', clf222),('rf',clf333)], voting='soft')\n",
    "model.fit(X1_train,Y_train)\n",
    "model.score(X1_test,Y_test)"
   ]
  },
  {
   "cell_type": "code",
   "execution_count": 71,
   "id": "6e0a23f2",
   "metadata": {},
   "outputs": [
    {
     "data": {
      "text/plain": [
       "array([[3210,    1],\n",
       "       [  98,   58]], dtype=int64)"
      ]
     },
     "execution_count": 71,
     "metadata": {},
     "output_type": "execute_result"
    }
   ],
   "source": [
    "from sklearn.metrics import confusion_matrix\n",
    "confusion_matrix(Y_test, y_pred)"
   ]
  },
  {
   "cell_type": "code",
   "execution_count": 24,
   "id": "8d6ef9af",
   "metadata": {},
   "outputs": [
    {
     "data": {
      "text/plain": [
       "0.9732699732699732"
      ]
     },
     "execution_count": 24,
     "metadata": {},
     "output_type": "execute_result"
    }
   ],
   "source": [
    "from sklearn.ensemble import BaggingClassifier\n",
    "from sklearn.tree import DecisionTreeClassifier\n",
    "from sklearn.linear_model import LogisticRegression\n",
    "from sklearn.linear_model import PassiveAggressiveClassifier\n",
    "from sklearn.naive_bayes import MultinomialNB\n",
    "from sklearn.neighbors import KNeighborsClassifier\n",
    "from sklearn.ensemble import RandomForestClassifier\n",
    "from sklearn.ensemble import AdaBoostClassifier\n",
    "from sklearn.neural_network import MLPClassifier\n",
    "from sklearn.ensemble import GradientBoostingClassifier\n",
    "from sklearn import svm\n",
    "from xgboost import XGBClassifier\n",
    "from sklearn.ensemble import VotingClassifier\n",
    "clf111 = DecisionTreeClassifier()\n",
    "#clf222 = MultinomialNB()\n",
    "clf333 = LogisticRegression()\n",
    "#clf444 = KNeighborsClassifier()\n",
    "#clf666 = RandomForestClassifier()\n",
    "clf777 = MLPClassifier()\n",
    "#clf888 = GradientBoostingClassifier(random_state=10)\n",
    "model = VotingClassifier(estimators=[('dt',clf111 ),('mnb',clf333),('gb',clf777)], voting='hard')\n",
    "model.fit(X_train,Y_train)\n",
    "y_pred = model.predict(X_test)\n",
    "accuracy_score(Y_test,y_pred)"
   ]
  },
  {
   "cell_type": "code",
   "execution_count": 25,
   "id": "d744ac42",
   "metadata": {},
   "outputs": [
    {
     "data": {
      "text/plain": [
       "array([[3210,    1],\n",
       "       [  89,   67]], dtype=int64)"
      ]
     },
     "execution_count": 25,
     "metadata": {},
     "output_type": "execute_result"
    }
   ],
   "source": [
    "from sklearn.metrics import confusion_matrix\n",
    "confusion_matrix(Y_test, y_pred)"
   ]
  },
  {
   "cell_type": "code",
   "execution_count": 26,
   "id": "5e75d8b9",
   "metadata": {},
   "outputs": [
    {
     "data": {
      "text/plain": [
       "0.972972972972973"
      ]
     },
     "execution_count": 26,
     "metadata": {},
     "output_type": "execute_result"
    }
   ],
   "source": [
    "from sklearn.ensemble import VotingClassifier\n",
    "clf111 = DecisionTreeClassifier()\n",
    "#clf222 = MultinomialNB()\n",
    "clf333 = LogisticRegression()\n",
    "#clf444 = KNeighborsClassifier()\n",
    "#clf666 = RandomForestClassifier()\n",
    "clf777 = MLPClassifier()\n",
    "#clf888 = GradientBoostingClassifier(random_state=10)\n",
    "model = VotingClassifier(estimators=[('dt',clf111), ('mnb', clf333),('gb',clf777)], voting='soft')\n",
    "model.fit(X_train,Y_train)\n",
    "y_pred = model.predict(X_test)\n",
    "accuracy_score(Y_test,y_pred)"
   ]
  },
  {
   "cell_type": "code",
   "execution_count": 27,
   "id": "c8ce7ffa",
   "metadata": {},
   "outputs": [
    {
     "data": {
      "text/plain": [
       "array([[3209,    2],\n",
       "       [  89,   67]], dtype=int64)"
      ]
     },
     "execution_count": 27,
     "metadata": {},
     "output_type": "execute_result"
    }
   ],
   "source": [
    "from sklearn.metrics import confusion_matrix\n",
    "confusion_matrix(Y_test, y_pred)"
   ]
  },
  {
   "cell_type": "code",
   "execution_count": 28,
   "id": "15bac1db",
   "metadata": {},
   "outputs": [
    {
     "data": {
      "text/plain": [
       "0.9708939708939709"
      ]
     },
     "execution_count": 28,
     "metadata": {},
     "output_type": "execute_result"
    }
   ],
   "source": [
    "from sklearn.ensemble import VotingClassifier\n",
    "clf111 = DecisionTreeClassifier()\n",
    "#clf222 = MultinomialNB()\n",
    "clf333 = LogisticRegression()\n",
    "#clf444 = KNeighborsClassifier()\n",
    "#clf666 = RandomForestClassifier()\n",
    "clf777 = MLPClassifier()\n",
    "#clf888 = GradientBoostingClassifier(random_state=10)\n",
    "model = VotingClassifier(estimators=[('knn',clf111),('rf',clf333),('mlp',clf777)], voting='hard')\n",
    "model.fit(X1_train,Y_train)\n",
    "y_pred = model.predict(X1_test)\n",
    "model.score(X1_test,Y_test)"
   ]
  },
  {
   "cell_type": "code",
   "execution_count": 55,
   "id": "323e91d0",
   "metadata": {},
   "outputs": [
    {
     "data": {
      "text/plain": [
       "array([[3209,    2],\n",
       "       [  94,   62]], dtype=int64)"
      ]
     },
     "execution_count": 55,
     "metadata": {},
     "output_type": "execute_result"
    }
   ],
   "source": [
    "from sklearn.metrics import confusion_matrix\n",
    "confusion_matrix(Y_test, y_pred)"
   ]
  },
  {
   "cell_type": "code",
   "execution_count": 29,
   "id": "6d800475",
   "metadata": {},
   "outputs": [
    {
     "data": {
      "text/plain": [
       "0.9714879714879715"
      ]
     },
     "execution_count": 29,
     "metadata": {},
     "output_type": "execute_result"
    }
   ],
   "source": [
    "from sklearn.ensemble import VotingClassifier\n",
    "clf111 = DecisionTreeClassifier()\n",
    "#clf222 = MultinomialNB()\n",
    "clf333 = LogisticRegression()\n",
    "#clf444 = KNeighborsClassifier()\n",
    "#clf666 = RandomForestClassifier()\n",
    "clf777 = MLPClassifier()\n",
    "#clf888 = GradientBoostingClassifier(random_state=10)\n",
    "model = VotingClassifier(estimators=[('knn',clf111),('rf',clf333),('mlp',clf777)], voting='soft')\n",
    "model.fit(X1_train,Y_train)\n",
    "y_pred = model.predict(X1_test)\n",
    "model.score(X1_test,Y_test)"
   ]
  },
  {
   "cell_type": "code",
   "execution_count": 30,
   "id": "0b21803b",
   "metadata": {},
   "outputs": [
    {
     "data": {
      "text/plain": [
       "array([[3206,    5],\n",
       "       [  91,   65]], dtype=int64)"
      ]
     },
     "execution_count": 30,
     "metadata": {},
     "output_type": "execute_result"
    }
   ],
   "source": [
    "from sklearn.metrics import confusion_matrix\n",
    "confusion_matrix(Y_test, y_pred)"
   ]
  },
  {
   "cell_type": "code",
   "execution_count": 29,
   "id": "c433aebd",
   "metadata": {},
   "outputs": [
    {
     "data": {
      "text/plain": [
       "0.9694089694089694"
      ]
     },
     "execution_count": 29,
     "metadata": {},
     "output_type": "execute_result"
    }
   ],
   "source": [
    "from sklearn.ensemble import VotingClassifier\n",
    "from sklearn.linear_model import LogisticRegression\n",
    "from sklearn.naive_bayes import MultinomialNB\n",
    "from sklearn.ensemble import RandomForestClassifier\n",
    "from sklearn.neural_network import MLPClassifier\n",
    "from sklearn.ensemble import GradientBoostingClassifier\n",
    "from sklearn import svm\n",
    "from xgboost import XGBClassifier\n",
    "clf111 = MultinomialNB()\n",
    "#clf222 = LogisticRegression()\n",
    "clf333 = RandomForestClassifier()\n",
    "#clf444 = MLPClassifier()\n",
    "#clf555 = GradientBoostingClassifier(random_state=10)\n",
    "#clf666= svm.SVC(kernel='linear',gamma='auto',C=3)\n",
    "clf777 = XGBClassifier()\n",
    "model = VotingClassifier(estimators=[('dt',clf333 ),('mnb',clf777),('gb',clf111)], voting='hard')\n",
    "model.fit(X_train,Y_train)\n",
    "y_pred = model.predict(X_test)\n",
    "accuracy_score(Y_test,y_pred)"
   ]
  },
  {
   "cell_type": "code",
   "execution_count": 26,
   "id": "f500d8ba",
   "metadata": {},
   "outputs": [
    {
     "data": {
      "image/png": "[encoded data removed]",
      "text/plain": [
       "<Figure size 432x288 with 2 Axes>"
      ]
     },
     "metadata": {
      "needs_background": "light"
     },
     "output_type": "display_data"
    }
   ],
   "source": [
    "from sklearn.metrics import confusion_matrix\n",
    "cm=confusion_matrix(Y_test, y_pred)\n",
    "import seaborn as sns\n",
    "import matplotlib.pyplot as plt\n",
    "labels = ['0', '1']\n",
    "sns.heatmap(cm, annot=True, fmt=\"d\", cmap=\"Blues\", xticklabels=labels, yticklabels=labels)\n",
    "plt.title(\"Confusion Matrix\")\n",
    "plt.xlabel(\"Predicted\")\n",
    "plt.ylabel(\"actual\")\n",
    "plt.xticks(np.arange(len(labels)), labels)\n",
    "plt.yticks(np.arange(len(labels)), labels)\n",
    "\n",
    "# Display the plot\n",
    "plt.show()"
   ]
  },
  {
   "cell_type": "code",
   "execution_count": 39,
   "id": "4fc242a9",
   "metadata": {},
   "outputs": [
    {
     "ename": "AttributeError",
     "evalue": "predict_proba is not available when  probability=False",
     "output_type": "error",
     "traceback": [
      "\u001b[1;31m---------------------------------------------------------------------------\u001b[0m",
      "\u001b[1;31mAttributeError\u001b[0m                            Traceback (most recent call last)",
      "\u001b[1;32m~\\AppData\\Local\\Temp/ipykernel_12476/2776454696.py\u001b[0m in \u001b[0;36m<module>\u001b[1;34m\u001b[0m\n\u001b[0;32m      8\u001b[0m \u001b[0mmodel\u001b[0m \u001b[1;33m=\u001b[0m \u001b[0mVotingClassifier\u001b[0m\u001b[1;33m(\u001b[0m\u001b[0mestimators\u001b[0m\u001b[1;33m=\u001b[0m\u001b[1;33m[\u001b[0m\u001b[1;33m(\u001b[0m\u001b[1;34m'dt'\u001b[0m\u001b[1;33m,\u001b[0m\u001b[0mclf111\u001b[0m\u001b[1;33m)\u001b[0m\u001b[1;33m,\u001b[0m \u001b[1;33m(\u001b[0m\u001b[1;34m'mnb'\u001b[0m\u001b[1;33m,\u001b[0m \u001b[0mclf333\u001b[0m\u001b[1;33m)\u001b[0m\u001b[1;33m,\u001b[0m\u001b[1;33m(\u001b[0m\u001b[1;34m'gb'\u001b[0m\u001b[1;33m,\u001b[0m\u001b[0mclf666\u001b[0m\u001b[1;33m)\u001b[0m\u001b[1;33m]\u001b[0m\u001b[1;33m,\u001b[0m \u001b[0mvoting\u001b[0m\u001b[1;33m=\u001b[0m\u001b[1;34m'soft'\u001b[0m\u001b[1;33m)\u001b[0m\u001b[1;33m\u001b[0m\u001b[1;33m\u001b[0m\u001b[0m\n\u001b[0;32m      9\u001b[0m \u001b[0mmodel\u001b[0m\u001b[1;33m.\u001b[0m\u001b[0mfit\u001b[0m\u001b[1;33m(\u001b[0m\u001b[0mX_train\u001b[0m\u001b[1;33m,\u001b[0m\u001b[0mY_train\u001b[0m\u001b[1;33m)\u001b[0m\u001b[1;33m\u001b[0m\u001b[1;33m\u001b[0m\u001b[0m\n\u001b[1;32m---> 10\u001b[1;33m \u001b[0my_pred\u001b[0m \u001b[1;33m=\u001b[0m \u001b[0mmodel\u001b[0m\u001b[1;33m.\u001b[0m\u001b[0mpredict\u001b[0m\u001b[1;33m(\u001b[0m\u001b[0mX_test\u001b[0m\u001b[1;33m)\u001b[0m\u001b[1;33m\u001b[0m\u001b[1;33m\u001b[0m\u001b[0m\n\u001b[0m\u001b[0;32m     11\u001b[0m \u001b[0maccuracy_score\u001b[0m\u001b[1;33m(\u001b[0m\u001b[0mY_test\u001b[0m\u001b[1;33m,\u001b[0m\u001b[0my_pred\u001b[0m\u001b[1;33m)\u001b[0m\u001b[1;33m\u001b[0m\u001b[1;33m\u001b[0m\u001b[0m\n",
      "\u001b[1;32m~\\anaconda3\\lib\\site-packages\\sklearn\\ensemble\\_voting.py\u001b[0m in \u001b[0;36mpredict\u001b[1;34m(self, X)\u001b[0m\n\u001b[0;32m    307\u001b[0m         \u001b[0mcheck_is_fitted\u001b[0m\u001b[1;33m(\u001b[0m\u001b[0mself\u001b[0m\u001b[1;33m)\u001b[0m\u001b[1;33m\u001b[0m\u001b[1;33m\u001b[0m\u001b[0m\n\u001b[0;32m    308\u001b[0m         \u001b[1;32mif\u001b[0m \u001b[0mself\u001b[0m\u001b[1;33m.\u001b[0m\u001b[0mvoting\u001b[0m \u001b[1;33m==\u001b[0m \u001b[1;34m'soft'\u001b[0m\u001b[1;33m:\u001b[0m\u001b[1;33m\u001b[0m\u001b[1;33m\u001b[0m\u001b[0m\n\u001b[1;32m--> 309\u001b[1;33m             \u001b[0mmaj\u001b[0m \u001b[1;33m=\u001b[0m \u001b[0mnp\u001b[0m\u001b[1;33m.\u001b[0m\u001b[0margmax\u001b[0m\u001b[1;33m(\u001b[0m\u001b[0mself\u001b[0m\u001b[1;33m.\u001b[0m\u001b[0mpredict_proba\u001b[0m\u001b[1;33m(\u001b[0m\u001b[0mX\u001b[0m\u001b[1;33m)\u001b[0m\u001b[1;33m,\u001b[0m \u001b[0maxis\u001b[0m\u001b[1;33m=\u001b[0m\u001b[1;36m1\u001b[0m\u001b[1;33m)\u001b[0m\u001b[1;33m\u001b[0m\u001b[1;33m\u001b[0m\u001b[0m\n\u001b[0m\u001b[0;32m    310\u001b[0m \u001b[1;33m\u001b[0m\u001b[0m\n\u001b[0;32m    311\u001b[0m         \u001b[1;32melse\u001b[0m\u001b[1;33m:\u001b[0m  \u001b[1;31m# 'hard' voting\u001b[0m\u001b[1;33m\u001b[0m\u001b[1;33m\u001b[0m\u001b[0m\n",
      "\u001b[1;32m~\\anaconda3\\lib\\site-packages\\sklearn\\ensemble\\_voting.py\u001b[0m in \u001b[0;36m_predict_proba\u001b[1;34m(self, X)\u001b[0m\n\u001b[0;32m    327\u001b[0m         \u001b[1;34m\"\"\"Predict class probabilities for X in 'soft' voting.\"\"\"\u001b[0m\u001b[1;33m\u001b[0m\u001b[1;33m\u001b[0m\u001b[0m\n\u001b[0;32m    328\u001b[0m         \u001b[0mcheck_is_fitted\u001b[0m\u001b[1;33m(\u001b[0m\u001b[0mself\u001b[0m\u001b[1;33m)\u001b[0m\u001b[1;33m\u001b[0m\u001b[1;33m\u001b[0m\u001b[0m\n\u001b[1;32m--> 329\u001b[1;33m         avg = np.average(self._collect_probas(X), axis=0,\n\u001b[0m\u001b[0;32m    330\u001b[0m                          weights=self._weights_not_none)\n\u001b[0;32m    331\u001b[0m         \u001b[1;32mreturn\u001b[0m \u001b[0mavg\u001b[0m\u001b[1;33m\u001b[0m\u001b[1;33m\u001b[0m\u001b[0m\n",
      "\u001b[1;32m~\\anaconda3\\lib\\site-packages\\sklearn\\ensemble\\_voting.py\u001b[0m in \u001b[0;36m_collect_probas\u001b[1;34m(self, X)\u001b[0m\n\u001b[0;32m    322\u001b[0m     \u001b[1;32mdef\u001b[0m \u001b[0m_collect_probas\u001b[0m\u001b[1;33m(\u001b[0m\u001b[0mself\u001b[0m\u001b[1;33m,\u001b[0m \u001b[0mX\u001b[0m\u001b[1;33m)\u001b[0m\u001b[1;33m:\u001b[0m\u001b[1;33m\u001b[0m\u001b[1;33m\u001b[0m\u001b[0m\n\u001b[0;32m    323\u001b[0m         \u001b[1;34m\"\"\"Collect results from clf.predict calls.\"\"\"\u001b[0m\u001b[1;33m\u001b[0m\u001b[1;33m\u001b[0m\u001b[0m\n\u001b[1;32m--> 324\u001b[1;33m         \u001b[1;32mreturn\u001b[0m \u001b[0mnp\u001b[0m\u001b[1;33m.\u001b[0m\u001b[0masarray\u001b[0m\u001b[1;33m(\u001b[0m\u001b[1;33m[\u001b[0m\u001b[0mclf\u001b[0m\u001b[1;33m.\u001b[0m\u001b[0mpredict_proba\u001b[0m\u001b[1;33m(\u001b[0m\u001b[0mX\u001b[0m\u001b[1;33m)\u001b[0m \u001b[1;32mfor\u001b[0m \u001b[0mclf\u001b[0m \u001b[1;32min\u001b[0m \u001b[0mself\u001b[0m\u001b[1;33m.\u001b[0m\u001b[0mestimators_\u001b[0m\u001b[1;33m]\u001b[0m\u001b[1;33m)\u001b[0m\u001b[1;33m\u001b[0m\u001b[1;33m\u001b[0m\u001b[0m\n\u001b[0m\u001b[0;32m    325\u001b[0m \u001b[1;33m\u001b[0m\u001b[0m\n\u001b[0;32m    326\u001b[0m     \u001b[1;32mdef\u001b[0m \u001b[0m_predict_proba\u001b[0m\u001b[1;33m(\u001b[0m\u001b[0mself\u001b[0m\u001b[1;33m,\u001b[0m \u001b[0mX\u001b[0m\u001b[1;33m)\u001b[0m\u001b[1;33m:\u001b[0m\u001b[1;33m\u001b[0m\u001b[1;33m\u001b[0m\u001b[0m\n",
      "\u001b[1;32m~\\anaconda3\\lib\\site-packages\\sklearn\\ensemble\\_voting.py\u001b[0m in \u001b[0;36m<listcomp>\u001b[1;34m(.0)\u001b[0m\n\u001b[0;32m    322\u001b[0m     \u001b[1;32mdef\u001b[0m \u001b[0m_collect_probas\u001b[0m\u001b[1;33m(\u001b[0m\u001b[0mself\u001b[0m\u001b[1;33m,\u001b[0m \u001b[0mX\u001b[0m\u001b[1;33m)\u001b[0m\u001b[1;33m:\u001b[0m\u001b[1;33m\u001b[0m\u001b[1;33m\u001b[0m\u001b[0m\n\u001b[0;32m    323\u001b[0m         \u001b[1;34m\"\"\"Collect results from clf.predict calls.\"\"\"\u001b[0m\u001b[1;33m\u001b[0m\u001b[1;33m\u001b[0m\u001b[0m\n\u001b[1;32m--> 324\u001b[1;33m         \u001b[1;32mreturn\u001b[0m \u001b[0mnp\u001b[0m\u001b[1;33m.\u001b[0m\u001b[0masarray\u001b[0m\u001b[1;33m(\u001b[0m\u001b[1;33m[\u001b[0m\u001b[0mclf\u001b[0m\u001b[1;33m.\u001b[0m\u001b[0mpredict_proba\u001b[0m\u001b[1;33m(\u001b[0m\u001b[0mX\u001b[0m\u001b[1;33m)\u001b[0m \u001b[1;32mfor\u001b[0m \u001b[0mclf\u001b[0m \u001b[1;32min\u001b[0m \u001b[0mself\u001b[0m\u001b[1;33m.\u001b[0m\u001b[0mestimators_\u001b[0m\u001b[1;33m]\u001b[0m\u001b[1;33m)\u001b[0m\u001b[1;33m\u001b[0m\u001b[1;33m\u001b[0m\u001b[0m\n\u001b[0m\u001b[0;32m    325\u001b[0m \u001b[1;33m\u001b[0m\u001b[0m\n\u001b[0;32m    326\u001b[0m     \u001b[1;32mdef\u001b[0m \u001b[0m_predict_proba\u001b[0m\u001b[1;33m(\u001b[0m\u001b[0mself\u001b[0m\u001b[1;33m,\u001b[0m \u001b[0mX\u001b[0m\u001b[1;33m)\u001b[0m\u001b[1;33m:\u001b[0m\u001b[1;33m\u001b[0m\u001b[1;33m\u001b[0m\u001b[0m\n",
      "\u001b[1;32m~\\anaconda3\\lib\\site-packages\\sklearn\\svm\\_base.py\u001b[0m in \u001b[0;36mpredict_proba\u001b[1;34m(self)\u001b[0m\n\u001b[0;32m    664\u001b[0m         \u001b[0mdatasets\u001b[0m\u001b[1;33m.\u001b[0m\u001b[1;33m\u001b[0m\u001b[1;33m\u001b[0m\u001b[0m\n\u001b[0;32m    665\u001b[0m         \"\"\"\n\u001b[1;32m--> 666\u001b[1;33m         \u001b[0mself\u001b[0m\u001b[1;33m.\u001b[0m\u001b[0m_check_proba\u001b[0m\u001b[1;33m(\u001b[0m\u001b[1;33m)\u001b[0m\u001b[1;33m\u001b[0m\u001b[1;33m\u001b[0m\u001b[0m\n\u001b[0m\u001b[0;32m    667\u001b[0m         \u001b[1;32mreturn\u001b[0m \u001b[0mself\u001b[0m\u001b[1;33m.\u001b[0m\u001b[0m_predict_proba\u001b[0m\u001b[1;33m\u001b[0m\u001b[1;33m\u001b[0m\u001b[0m\n\u001b[0;32m    668\u001b[0m \u001b[1;33m\u001b[0m\u001b[0m\n",
      "\u001b[1;32m~\\anaconda3\\lib\\site-packages\\sklearn\\svm\\_base.py\u001b[0m in \u001b[0;36m_check_proba\u001b[1;34m(self)\u001b[0m\n\u001b[0;32m    631\u001b[0m     \u001b[1;32mdef\u001b[0m \u001b[0m_check_proba\u001b[0m\u001b[1;33m(\u001b[0m\u001b[0mself\u001b[0m\u001b[1;33m)\u001b[0m\u001b[1;33m:\u001b[0m\u001b[1;33m\u001b[0m\u001b[1;33m\u001b[0m\u001b[0m\n\u001b[0;32m    632\u001b[0m         \u001b[1;32mif\u001b[0m \u001b[1;32mnot\u001b[0m \u001b[0mself\u001b[0m\u001b[1;33m.\u001b[0m\u001b[0mprobability\u001b[0m\u001b[1;33m:\u001b[0m\u001b[1;33m\u001b[0m\u001b[1;33m\u001b[0m\u001b[0m\n\u001b[1;32m--> 633\u001b[1;33m             raise AttributeError(\"predict_proba is not available when \"\n\u001b[0m\u001b[0;32m    634\u001b[0m                                  \" probability=False\")\n\u001b[0;32m    635\u001b[0m         \u001b[1;32mif\u001b[0m \u001b[0mself\u001b[0m\u001b[1;33m.\u001b[0m\u001b[0m_impl\u001b[0m \u001b[1;32mnot\u001b[0m \u001b[1;32min\u001b[0m \u001b[1;33m(\u001b[0m\u001b[1;34m'c_svc'\u001b[0m\u001b[1;33m,\u001b[0m \u001b[1;34m'nu_svc'\u001b[0m\u001b[1;33m)\u001b[0m\u001b[1;33m:\u001b[0m\u001b[1;33m\u001b[0m\u001b[1;33m\u001b[0m\u001b[0m\n",
      "\u001b[1;31mAttributeError\u001b[0m: predict_proba is not available when  probability=False"
     ]
    }
   ],
   "source": [
    "clf111 = MultinomialNB()\n",
    "#clf222 = LogisticRegression()\n",
    "clf333 = RandomForestClassifier()\n",
    "#clf444 = MLPClassifier()\n",
    "#clf555 = GradientBoostingClassifier(random_state=10)\n",
    "clf666= svm.SVC(kernel='linear',gamma='auto',C=3)\n",
    "#clf777 = XGBClassifier()\n",
    "model = VotingClassifier(estimators=[('dt',clf111), ('mnb', clf333),('gb',clf666)], voting='soft')\n",
    "model.fit(X_train,Y_train)\n",
    "y_pred = model.predict(X_test)\n",
    "accuracy_score(Y_test,y_pred)"
   ]
  },
  {
   "cell_type": "code",
   "execution_count": null,
   "id": "110a8949",
   "metadata": {},
   "outputs": [],
   "source": [
    "from sklearn.metrics import confusion_matrix\n",
    "confusion_matrix(Y_test, y_pred)"
   ]
  },
  {
   "cell_type": "code",
   "execution_count": 36,
   "id": "4ba6d2a8",
   "metadata": {},
   "outputs": [
    {
     "data": {
      "text/plain": [
       "0.9682209682209683"
      ]
     },
     "execution_count": 36,
     "metadata": {},
     "output_type": "execute_result"
    }
   ],
   "source": [
    "clf111 = MultinomialNB()\n",
    "#clf222 = LogisticRegression()\n",
    "clf333 = RandomForestClassifier()\n",
    "#clf444 = MLPClassifier()\n",
    "#clf555 = GradientBoostingClassifier(random_state=10)\n",
    "#clf666= svm.SVC(kernel='linear',gamma='auto',C=3)\n",
    "clf777 = XGBClassifier()\n",
    "model = VotingClassifier(estimators=[('dt',clf777 ),('mnb',clf333),('gb',clf111)], voting='hard')\n",
    "model.fit(X1_train,Y_train)\n",
    "y_pred = model.predict(X1_test)\n",
    "accuracy_score(Y_test,y_pred)"
   ]
  },
  {
   "cell_type": "code",
   "execution_count": 31,
   "id": "e2b7e99d",
   "metadata": {},
   "outputs": [
    {
     "data": {
      "text/plain": [
       "array([[3207,    4],\n",
       "       [  95,   61]], dtype=int64)"
      ]
     },
     "execution_count": 31,
     "metadata": {},
     "output_type": "execute_result"
    }
   ],
   "source": [
    "from sklearn.metrics import confusion_matrix\n",
    "confusion_matrix(Y_test, y_pred)"
   ]
  },
  {
   "cell_type": "code",
   "execution_count": 43,
   "id": "aa0af7ed",
   "metadata": {},
   "outputs": [
    {
     "data": {
      "text/plain": [
       "0.9694089694089694"
      ]
     },
     "execution_count": 43,
     "metadata": {},
     "output_type": "execute_result"
    }
   ],
   "source": [
    "clf111 = MultinomialNB()\n",
    "#clf222 = LogisticRegression()\n",
    "clf333 = RandomForestClassifier()\n",
    "#clf444 = MLPClassifier()\n",
    "#clf555 = GradientBoostingClassifier(random_state=10)\n",
    "#clf666= svm.SVC(kernel='linear',gamma='auto',C=3)\n",
    "clf777 = XGBClassifier()\n",
    "model = VotingClassifier(estimators=[('dt',clf111), ('mnb', clf333),('gb',clf777)], voting='soft')\n",
    "model.fit(X1_train,Y_train)\n",
    "y_pred = model.predict(X1_test)\n",
    "accuracy_score(Y_test,y_pred)"
   ]
  },
  {
   "cell_type": "code",
   "execution_count": 44,
   "id": "720633cb",
   "metadata": {},
   "outputs": [
    {
     "data": {
      "text/plain": [
       "array([[3209,    2],\n",
       "       [ 101,   55]], dtype=int64)"
      ]
     },
     "execution_count": 44,
     "metadata": {},
     "output_type": "execute_result"
    }
   ],
   "source": [
    "from sklearn.metrics import confusion_matrix\n",
    "confusion_matrix(Y_test, y_pred)"
   ]
  },
  {
   "cell_type": "code",
   "execution_count": 50,
   "id": "16ab874c",
   "metadata": {},
   "outputs": [],
   "source": [
    "estimators = [\n",
    "    ('gb', GradientBoostingClassifier(random_state=10)),\n",
    "    ('svm', svm.SVC(kernel='linear',gamma='auto',C=3)),\n",
    "    ('rf', RandomForestClassifier())\n",
    "]\n",
    "from sklearn.ensemble import StackingClassifier\n",
    "\n",
    "clf = StackingClassifier(\n",
    "    estimators=estimators, \n",
    "    final_estimator=LogisticRegression(),\n",
    "    cv=10\n",
    ")"
   ]
  },
  {
   "cell_type": "code",
   "execution_count": 51,
   "id": "a7b25727",
   "metadata": {},
   "outputs": [
    {
     "data": {
      "text/plain": [
       "StackingClassifier(cv=10,\n",
       "                   estimators=[('gb',\n",
       "                                GradientBoostingClassifier(random_state=10)),\n",
       "                               ('svm', SVC(C=3, gamma='auto', kernel='linear')),\n",
       "                               ('rf', RandomForestClassifier())],\n",
       "                   final_estimator=LogisticRegression())"
      ]
     },
     "execution_count": 51,
     "metadata": {},
     "output_type": "execute_result"
    }
   ],
   "source": [
    "clf.fit(X_train, Y_train)"
   ]
  },
  {
   "cell_type": "code",
   "execution_count": 52,
   "id": "1c6ff4be",
   "metadata": {},
   "outputs": [
    {
     "data": {
      "text/plain": [
       "0.9717849717849718"
      ]
     },
     "execution_count": 52,
     "metadata": {},
     "output_type": "execute_result"
    }
   ],
   "source": [
    "y_pred = clf.predict(X_test)\n",
    "from sklearn.metrics import accuracy_score\n",
    "accuracy_score(Y_test,y_pred)"
   ]
  },
  {
   "cell_type": "code",
   "execution_count": 53,
   "id": "c8e9a13f",
   "metadata": {},
   "outputs": [
    {
     "data": {
      "text/plain": [
       "array([[3202,    9],\n",
       "       [  86,   70]], dtype=int64)"
      ]
     },
     "execution_count": 53,
     "metadata": {},
     "output_type": "execute_result"
    }
   ],
   "source": [
    "from sklearn.metrics import confusion_matrix\n",
    "confusion_matrix(Y_test, y_pred)"
   ]
  },
  {
   "cell_type": "code",
   "execution_count": 54,
   "id": "75a07bcc",
   "metadata": {},
   "outputs": [
    {
     "data": {
      "text/plain": [
       "StackingClassifier(cv=10,\n",
       "                   estimators=[('gb',\n",
       "                                GradientBoostingClassifier(random_state=10)),\n",
       "                               ('svm', SVC(C=3, gamma='auto', kernel='linear')),\n",
       "                               ('rf', RandomForestClassifier())],\n",
       "                   final_estimator=LogisticRegression())"
      ]
     },
     "execution_count": 54,
     "metadata": {},
     "output_type": "execute_result"
    }
   ],
   "source": [
    "clf.fit(X1_train, Y_train)"
   ]
  },
  {
   "cell_type": "code",
   "execution_count": 55,
   "id": "1a6027fe",
   "metadata": {},
   "outputs": [
    {
     "data": {
      "text/plain": [
       "0.9708939708939709"
      ]
     },
     "execution_count": 55,
     "metadata": {},
     "output_type": "execute_result"
    }
   ],
   "source": [
    "y_pred = clf.predict(X1_test)\n",
    "from sklearn.metrics import accuracy_score\n",
    "accuracy_score(Y_test,y_pred)"
   ]
  },
  {
   "cell_type": "code",
   "execution_count": 56,
   "id": "3d2b4f32",
   "metadata": {},
   "outputs": [
    {
     "data": {
      "text/plain": [
       "array([[3202,    9],\n",
       "       [  89,   67]], dtype=int64)"
      ]
     },
     "execution_count": 56,
     "metadata": {},
     "output_type": "execute_result"
    }
   ],
   "source": [
    "from sklearn.metrics import confusion_matrix\n",
    "confusion_matrix(Y_test, y_pred)"
   ]
  },
  {
   "cell_type": "code",
   "execution_count": 57,
   "id": "830538df",
   "metadata": {},
   "outputs": [],
   "source": [
    "estimators = [\n",
    "    ('gb', GradientBoostingClassifier(random_state=10)),\n",
    "    ('mlp', MLPClassifier()),\n",
    "    ('rf', RandomForestClassifier())\n",
    "]\n",
    "from sklearn.ensemble import StackingClassifier\n",
    "\n",
    "clf = StackingClassifier(\n",
    "    estimators=estimators, \n",
    "    final_estimator=LogisticRegression(),\n",
    "    cv=10\n",
    ")"
   ]
  },
  {
   "cell_type": "code",
   "execution_count": 58,
   "id": "5c203859",
   "metadata": {},
   "outputs": [
    {
     "data": {
      "text/plain": [
       "StackingClassifier(cv=10,\n",
       "                   estimators=[('gb',\n",
       "                                GradientBoostingClassifier(random_state=10)),\n",
       "                               ('mlp', MLPClassifier()),\n",
       "                               ('rf', RandomForestClassifier())],\n",
       "                   final_estimator=LogisticRegression())"
      ]
     },
     "execution_count": 58,
     "metadata": {},
     "output_type": "execute_result"
    }
   ],
   "source": [
    "clf.fit(X_train, Y_train)"
   ]
  },
  {
   "cell_type": "code",
   "execution_count": 59,
   "id": "73b302e8",
   "metadata": {},
   "outputs": [
    {
     "data": {
      "text/plain": [
       "0.972972972972973"
      ]
     },
     "execution_count": 59,
     "metadata": {},
     "output_type": "execute_result"
    }
   ],
   "source": [
    "y_pred = clf.predict(X_test)\n",
    "from sklearn.metrics import accuracy_score\n",
    "accuracy_score(Y_test,y_pred)"
   ]
  },
  {
   "cell_type": "code",
   "execution_count": 60,
   "id": "0dd8e838",
   "metadata": {},
   "outputs": [
    {
     "data": {
      "text/plain": [
       "array([[3206,    5],\n",
       "       [  86,   70]], dtype=int64)"
      ]
     },
     "execution_count": 60,
     "metadata": {},
     "output_type": "execute_result"
    }
   ],
   "source": [
    "from sklearn.metrics import confusion_matrix\n",
    "confusion_matrix(Y_test, y_pred)"
   ]
  },
  {
   "cell_type": "code",
   "execution_count": 61,
   "id": "86b3c514",
   "metadata": {},
   "outputs": [
    {
     "data": {
      "text/plain": [
       "StackingClassifier(cv=10,\n",
       "                   estimators=[('gb',\n",
       "                                GradientBoostingClassifier(random_state=10)),\n",
       "                               ('mlp', MLPClassifier()),\n",
       "                               ('rf', RandomForestClassifier())],\n",
       "                   final_estimator=LogisticRegression())"
      ]
     },
     "execution_count": 61,
     "metadata": {},
     "output_type": "execute_result"
    }
   ],
   "source": [
    "clf.fit(X1_train, Y_train)"
   ]
  },
  {
   "cell_type": "code",
   "execution_count": 62,
   "id": "0a8672b4",
   "metadata": {},
   "outputs": [
    {
     "data": {
      "text/plain": [
       "0.972972972972973"
      ]
     },
     "execution_count": 62,
     "metadata": {},
     "output_type": "execute_result"
    }
   ],
   "source": [
    "y_pred = clf.predict(X1_test)\n",
    "from sklearn.metrics import accuracy_score\n",
    "accuracy_score(Y_test,y_pred)"
   ]
  },
  {
   "cell_type": "code",
   "execution_count": 63,
   "id": "7c2df68e",
   "metadata": {},
   "outputs": [
    {
     "data": {
      "text/plain": [
       "array([[3206,    5],\n",
       "       [  86,   70]], dtype=int64)"
      ]
     },
     "execution_count": 63,
     "metadata": {},
     "output_type": "execute_result"
    }
   ],
   "source": [
    "from sklearn.metrics import confusion_matrix\n",
    "confusion_matrix(Y_test, y_pred)"
   ]
  },
  {
   "cell_type": "code",
   "execution_count": 64,
   "id": "d9f9ce34",
   "metadata": {},
   "outputs": [],
   "source": [
    "estimators = [\n",
    "    ('mnb', MultinomialNB()),\n",
    "    ('svm', svm.SVC(kernel='linear',gamma='auto',C=3)),\n",
    "    ('rf', RandomForestClassifier())\n",
    "]\n",
    "from sklearn.ensemble import StackingClassifier\n",
    "\n",
    "clf = StackingClassifier(\n",
    "    estimators=estimators, \n",
    "    final_estimator=LogisticRegression(),\n",
    "    cv=10\n",
    ")"
   ]
  },
  {
   "cell_type": "code",
   "execution_count": 65,
   "id": "3308a939",
   "metadata": {},
   "outputs": [
    {
     "data": {
      "text/plain": [
       "StackingClassifier(cv=10,\n",
       "                   estimators=[('mnb', MultinomialNB()),\n",
       "                               ('svm', SVC(C=3, gamma='auto', kernel='linear')),\n",
       "                               ('rf', RandomForestClassifier())],\n",
       "                   final_estimator=LogisticRegression())"
      ]
     },
     "execution_count": 65,
     "metadata": {},
     "output_type": "execute_result"
    }
   ],
   "source": [
    "clf.fit(X_train, Y_train)"
   ]
  },
  {
   "cell_type": "code",
   "execution_count": 66,
   "id": "dc2042e3",
   "metadata": {},
   "outputs": [
    {
     "data": {
      "text/plain": [
       "0.9717849717849718"
      ]
     },
     "execution_count": 66,
     "metadata": {},
     "output_type": "execute_result"
    }
   ],
   "source": [
    "y_pred = clf.predict(X_test)\n",
    "from sklearn.metrics import accuracy_score\n",
    "accuracy_score(Y_test,y_pred)"
   ]
  },
  {
   "cell_type": "code",
   "execution_count": 67,
   "id": "e3096ffa",
   "metadata": {},
   "outputs": [
    {
     "data": {
      "text/plain": [
       "array([[3202,    9],\n",
       "       [  86,   70]], dtype=int64)"
      ]
     },
     "execution_count": 67,
     "metadata": {},
     "output_type": "execute_result"
    }
   ],
   "source": [
    "from sklearn.metrics import confusion_matrix\n",
    "confusion_matrix(Y_test, y_pred)"
   ]
  },
  {
   "cell_type": "code",
   "execution_count": 68,
   "id": "79e83fcf",
   "metadata": {},
   "outputs": [
    {
     "data": {
      "text/plain": [
       "StackingClassifier(cv=10,\n",
       "                   estimators=[('mnb', MultinomialNB()),\n",
       "                               ('svm', SVC(C=3, gamma='auto', kernel='linear')),\n",
       "                               ('rf', RandomForestClassifier())],\n",
       "                   final_estimator=LogisticRegression())"
      ]
     },
     "execution_count": 68,
     "metadata": {},
     "output_type": "execute_result"
    }
   ],
   "source": [
    "clf.fit(X1_train, Y_train)"
   ]
  },
  {
   "cell_type": "code",
   "execution_count": 69,
   "id": "2dce8ee1",
   "metadata": {},
   "outputs": [
    {
     "data": {
      "text/plain": [
       "0.9717849717849718"
      ]
     },
     "execution_count": 69,
     "metadata": {},
     "output_type": "execute_result"
    }
   ],
   "source": [
    "y_pred = clf.predict(X1_test)\n",
    "from sklearn.metrics import accuracy_score\n",
    "accuracy_score(Y_test,y_pred)"
   ]
  },
  {
   "cell_type": "code",
   "execution_count": 70,
   "id": "d83a4f76",
   "metadata": {},
   "outputs": [
    {
     "data": {
      "text/plain": [
       "array([[3204,    7],\n",
       "       [  88,   68]], dtype=int64)"
      ]
     },
     "execution_count": 70,
     "metadata": {},
     "output_type": "execute_result"
    }
   ],
   "source": [
    "from sklearn.metrics import confusion_matrix\n",
    "confusion_matrix(Y_test, y_pred)"
   ]
  },
  {
   "cell_type": "code",
   "execution_count": 71,
   "id": "a9de2e81",
   "metadata": {},
   "outputs": [],
   "source": [
    "estimators = [\n",
    "    ('lr', LogisticRegression()),\n",
    "    ('svm', svm.SVC(kernel='linear',gamma='auto',C=3)),\n",
    "    ('mlp', MLPClassifier())\n",
    "]\n",
    "from sklearn.ensemble import StackingClassifier\n",
    "\n",
    "clf = StackingClassifier(\n",
    "    estimators=estimators, \n",
    "    final_estimator=RandomForestClassifier(),\n",
    "    cv=10\n",
    ")"
   ]
  },
  {
   "cell_type": "code",
   "execution_count": 72,
   "id": "e846cfe0",
   "metadata": {},
   "outputs": [
    {
     "data": {
      "text/plain": [
       "StackingClassifier(cv=10,\n",
       "                   estimators=[('lr', LogisticRegression()),\n",
       "                               ('svm', SVC(C=3, gamma='auto', kernel='linear')),\n",
       "                               ('mlp', MLPClassifier())],\n",
       "                   final_estimator=RandomForestClassifier())"
      ]
     },
     "execution_count": 72,
     "metadata": {},
     "output_type": "execute_result"
    }
   ],
   "source": [
    "clf.fit(X_train, Y_train)"
   ]
  },
  {
   "cell_type": "code",
   "execution_count": 73,
   "id": "c8d3f123",
   "metadata": {},
   "outputs": [
    {
     "data": {
      "text/plain": [
       "0.9717849717849718"
      ]
     },
     "execution_count": 73,
     "metadata": {},
     "output_type": "execute_result"
    }
   ],
   "source": [
    "y_pred = clf.predict(X_test)\n",
    "from sklearn.metrics import accuracy_score\n",
    "accuracy_score(Y_test,y_pred)"
   ]
  },
  {
   "cell_type": "code",
   "execution_count": 74,
   "id": "2818f29d",
   "metadata": {},
   "outputs": [
    {
     "data": {
      "text/plain": [
       "array([[3199,   12],\n",
       "       [  83,   73]], dtype=int64)"
      ]
     },
     "execution_count": 74,
     "metadata": {},
     "output_type": "execute_result"
    }
   ],
   "source": [
    "from sklearn.metrics import confusion_matrix\n",
    "confusion_matrix(Y_test, y_pred)"
   ]
  },
  {
   "cell_type": "code",
   "execution_count": 75,
   "id": "a87caaba",
   "metadata": {},
   "outputs": [
    {
     "data": {
      "text/plain": [
       "StackingClassifier(cv=10,\n",
       "                   estimators=[('lr', LogisticRegression()),\n",
       "                               ('svm', SVC(C=3, gamma='auto', kernel='linear')),\n",
       "                               ('mlp', MLPClassifier())],\n",
       "                   final_estimator=RandomForestClassifier())"
      ]
     },
     "execution_count": 75,
     "metadata": {},
     "output_type": "execute_result"
    }
   ],
   "source": [
    "clf.fit(X1_train, Y_train)"
   ]
  },
  {
   "cell_type": "code",
   "execution_count": 76,
   "id": "9f592e24",
   "metadata": {},
   "outputs": [
    {
     "data": {
      "text/plain": [
       "0.9717849717849718"
      ]
     },
     "execution_count": 76,
     "metadata": {},
     "output_type": "execute_result"
    }
   ],
   "source": [
    "y_pred = clf.predict(X1_test)\n",
    "from sklearn.metrics import accuracy_score\n",
    "accuracy_score(Y_test,y_pred)"
   ]
  },
  {
   "cell_type": "code",
   "execution_count": 77,
   "id": "68ba96c9",
   "metadata": {},
   "outputs": [
    {
     "data": {
      "text/plain": [
       "array([[3196,   15],\n",
       "       [  80,   76]], dtype=int64)"
      ]
     },
     "execution_count": 77,
     "metadata": {},
     "output_type": "execute_result"
    }
   ],
   "source": [
    "from sklearn.metrics import confusion_matrix\n",
    "confusion_matrix(Y_test, y_pred)"
   ]
  },
  {
   "cell_type": "code",
   "execution_count": 78,
   "id": "ad7405e8",
   "metadata": {},
   "outputs": [],
   "source": [
    "estimators = [\n",
    "    ('xgb', XGBClassifier()),\n",
    "    ('svm', svm.SVC(kernel='linear',gamma='auto',C=3)),\n",
    "    ('mlp', MLPClassifier())\n",
    "]\n",
    "from sklearn.ensemble import StackingClassifier\n",
    "\n",
    "clf = StackingClassifier(\n",
    "    estimators=estimators, \n",
    "    final_estimator=RandomForestClassifier(),\n",
    "    cv=10\n",
    ")"
   ]
  },
  {
   "cell_type": "code",
   "execution_count": 79,
   "id": "010adcf9",
   "metadata": {},
   "outputs": [
    {
     "data": {
      "text/plain": [
       "StackingClassifier(cv=10,\n",
       "                   estimators=[('xgb',\n",
       "                                XGBClassifier(base_score=None, booster=None,\n",
       "                                              callbacks=None,\n",
       "                                              colsample_bylevel=None,\n",
       "                                              colsample_bynode=None,\n",
       "                                              colsample_bytree=None,\n",
       "                                              early_stopping_rounds=None,\n",
       "                                              enable_categorical=False,\n",
       "                                              eval_metric=None,\n",
       "                                              feature_types=None, gamma=None,\n",
       "                                              gpu_id=None, grow_policy=None,\n",
       "                                              importance_type=None,\n",
       "                                              interaction_constraints=None,\n",
       "                                              lea...\n",
       "                                              max_cat_threshold=None,\n",
       "                                              max_cat_to_onehot=None,\n",
       "                                              max_delta_step=None,\n",
       "                                              max_depth=None, max_leaves=None,\n",
       "                                              min_child_weight=None,\n",
       "                                              missing=nan,\n",
       "                                              monotone_constraints=None,\n",
       "                                              n_estimators=100, n_jobs=None,\n",
       "                                              num_parallel_tree=None,\n",
       "                                              predictor=None, random_state=None, ...)),\n",
       "                               ('svm', SVC(C=3, gamma='auto', kernel='linear')),\n",
       "                               ('mlp', MLPClassifier())],\n",
       "                   final_estimator=RandomForestClassifier())"
      ]
     },
     "execution_count": 79,
     "metadata": {},
     "output_type": "execute_result"
    }
   ],
   "source": [
    "clf.fit(X_train, Y_train)"
   ]
  },
  {
   "cell_type": "code",
   "execution_count": 80,
   "id": "62b6b165",
   "metadata": {},
   "outputs": [
    {
     "data": {
      "text/plain": [
       "0.9711909711909712"
      ]
     },
     "execution_count": 80,
     "metadata": {},
     "output_type": "execute_result"
    }
   ],
   "source": [
    "y_pred = clf.predict(X_test)\n",
    "from sklearn.metrics import accuracy_score\n",
    "accuracy_score(Y_test,y_pred)"
   ]
  },
  {
   "cell_type": "code",
   "execution_count": 81,
   "id": "d6a740d0",
   "metadata": {},
   "outputs": [
    {
     "data": {
      "text/plain": [
       "array([[3199,   12],\n",
       "       [  85,   71]], dtype=int64)"
      ]
     },
     "execution_count": 81,
     "metadata": {},
     "output_type": "execute_result"
    }
   ],
   "source": [
    "from sklearn.metrics import confusion_matrix\n",
    "confusion_matrix(Y_test, y_pred)"
   ]
  },
  {
   "cell_type": "code",
   "execution_count": 82,
   "id": "883fb407",
   "metadata": {},
   "outputs": [
    {
     "data": {
      "text/plain": [
       "StackingClassifier(cv=10,\n",
       "                   estimators=[('xgb',\n",
       "                                XGBClassifier(base_score=None, booster=None,\n",
       "                                              callbacks=None,\n",
       "                                              colsample_bylevel=None,\n",
       "                                              colsample_bynode=None,\n",
       "                                              colsample_bytree=None,\n",
       "                                              early_stopping_rounds=None,\n",
       "                                              enable_categorical=False,\n",
       "                                              eval_metric=None,\n",
       "                                              feature_types=None, gamma=None,\n",
       "                                              gpu_id=None, grow_policy=None,\n",
       "                                              importance_type=None,\n",
       "                                              interaction_constraints=None,\n",
       "                                              lea...\n",
       "                                              max_cat_threshold=None,\n",
       "                                              max_cat_to_onehot=None,\n",
       "                                              max_delta_step=None,\n",
       "                                              max_depth=None, max_leaves=None,\n",
       "                                              min_child_weight=None,\n",
       "                                              missing=nan,\n",
       "                                              monotone_constraints=None,\n",
       "                                              n_estimators=100, n_jobs=None,\n",
       "                                              num_parallel_tree=None,\n",
       "                                              predictor=None, random_state=None, ...)),\n",
       "                               ('svm', SVC(C=3, gamma='auto', kernel='linear')),\n",
       "                               ('mlp', MLPClassifier())],\n",
       "                   final_estimator=RandomForestClassifier())"
      ]
     },
     "execution_count": 82,
     "metadata": {},
     "output_type": "execute_result"
    }
   ],
   "source": [
    "clf.fit(X1_train, Y_train)"
   ]
  },
  {
   "cell_type": "code",
   "execution_count": 83,
   "id": "ee5c5dcd",
   "metadata": {},
   "outputs": [
    {
     "data": {
      "text/plain": [
       "0.9705969705969706"
      ]
     },
     "execution_count": 83,
     "metadata": {},
     "output_type": "execute_result"
    }
   ],
   "source": [
    "y_pred = clf.predict(X1_test)\n",
    "from sklearn.metrics import accuracy_score\n",
    "accuracy_score(Y_test,y_pred)"
   ]
  },
  {
   "cell_type": "code",
   "execution_count": 84,
   "id": "8be1f706",
   "metadata": {},
   "outputs": [
    {
     "data": {
      "text/plain": [
       "array([[3200,   11],\n",
       "       [  88,   68]], dtype=int64)"
      ]
     },
     "execution_count": 84,
     "metadata": {},
     "output_type": "execute_result"
    }
   ],
   "source": [
    "from sklearn.metrics import confusion_matrix\n",
    "confusion_matrix(Y_test, y_pred)"
   ]
  },
  {
   "cell_type": "code",
   "execution_count": null,
   "id": "7ae62d71",
   "metadata": {},
   "outputs": [],
   "source": []
  },
  {
   "cell_type": "code",
   "execution_count": null,
   "id": "0db2fe74",
   "metadata": {},
   "outputs": [],
   "source": []
  }
 ],
 "metadata": {
  "kernelspec": {
   "display_name": "Python 3 (ipykernel)",
   "language": "python",
   "name": "python3"
  },
  "language_info": {
   "codemirror_mode": {
    "name": "ipython",
    "version": 3
   },
   "file_extension": ".py",
   "mimetype": "text/x-python",
   "name": "python",
   "nbconvert_exporter": "python",
   "pygments_lexer": "ipython3",
   "version": "3.9.7"
  }
 },
 "nbformat": 4,
 "nbformat_minor": 5
}
